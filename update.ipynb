{
 "cells": [
  {
   "cell_type": "code",
   "execution_count": 5,
   "id": "3867a43b-3d70-4fcd-a0a2-33e174a41555",
   "metadata": {},
   "outputs": [],
   "source": [
    "import pandas as pd\n",
    "from prophet import Prophet\n",
    "from neuralprophet import NeuralProphet# as Prophet\n",
    "from neuralprophet import set_log_level\n",
    "set_log_level(\"ERROR\")\n",
    "\n",
    "from dotenv import load_dotenv\n",
    "from pathlib import Path\n",
    "import os\n",
    "\n",
    "# from ezekial.prophet import Prophet\n",
    "import yfinance as yf\n",
    "import requests\n",
    "# import base64\n",
    "import pybase64 as base64\n",
    "from datetime import datetime, timedelta\n",
    "import matplotlib.pyplot as plt\n",
    "from tqdm.auto import tqdm\n",
    "from multiprocessing import Pool, cpu_count, Process#, freeze_support\n",
    "import time\n",
    "import warnings\n",
    "import sys"
   ]
  },
  {
   "cell_type": "code",
   "execution_count": 6,
   "id": "b4a745d0-c3fd-4c35-bef7-752e3b518bd4",
   "metadata": {},
   "outputs": [],
   "source": [
    "# Arguements\n",
    "warnings.filterwarnings(\"ignore\")\n",
    "load_dotenv()\n",
    "url = os.getenv(\"DJANGO_SERVER_URL\")\n",
    "av_key = os.getenv(\"APLHA_VANTAGE_KEY\")\n",
    "av_key1 = os.getenv(\"APLHA_VANTAGE_KEY1\")\n",
    "av_key2 = os.getenv(\"APLHA_VANTAGE_KEY2\")\n",
    "av_key3 = os.getenv(\"APLHA_VANTAGE_KEY3\")\n",
    "av_key4 = os.getenv(\"APLHA_VANTAGE_KEY4\")\n",
    "av_key5 = os.getenv(\"APLHA_VANTAGE_KEY5\")\n",
    "av_key6 = os.getenv(\"APLHA_VANTAGE_KEY6\")\n",
    "ma_key = os.getenv(\"MARKETAUX_TOKEN\")\n",
    "ma_key1 = os.getenv(\"MARKETAUX_TOKEN2\")\n",
    "ma_key2 = os.getenv(\"MARKETAUX_TOKEN3\")\n",
    "ma_key3 = os.getenv(\"MARKETAUX_TOKEN4\")\n",
    "ma_key4 = os.getenv(\"MARKETAUX_TOKEN5\")\n",
    "\n",
    "weeeks_prior_data_end_date = int(sys.argv[1]) #260\n",
    "forecast_days_ahead = int(sys.argv[2]) #90\n",
    "ticker_path = sys.argv[3]#'data/S&P500 tickers.csv'\n",
    "forecast_img_path = sys.argv[4]#'images/forecast_temp/forecast.png'\n",
    "include_sentiment = sys.argv[5]\n",
    "model_to_use = sys.argv[6]"
   ]
  },
  {
   "cell_type": "code",
   "execution_count": 7,
   "id": "c03dfef3-4e47-4ea4-a982-9bd062b66580",
   "metadata": {
    "tags": []
   },
   "outputs": [],
   "source": [
    "# # Arguements\n",
    "# warnings.filterwarnings(\"ignore\")\n",
    "# load_dotenv()\n",
    "# url = os.getenv(\"DJANGO_SERVER_URL\")\n",
    "# url = os.getenv(\"DJANGO_SERVER_URL\")\n",
    "# av_key = os.getenv(\"APLHA_VANTAGE_KEY\")\n",
    "# av_key1 = os.getenv(\"APLHA_VANTAGE_KEY1\")\n",
    "# av_key2 = os.getenv(\"APLHA_VANTAGE_KEY2\")\n",
    "# av_key3 = os.getenv(\"APLHA_VANTAGE_KEY3\")\n",
    "# av_key4 = os.getenv(\"APLHA_VANTAGE_KEY4\")\n",
    "# av_key5 = os.getenv(\"APLHA_VANTAGE_KEY5\")\n",
    "# av_key6 = os.getenv(\"APLHA_VANTAGE_KEY6\")\n",
    "# ma_key = os.getenv(\"MARKETAUX_TOKEN\")\n",
    "# ma_key1 = os.getenv(\"MARKETAUX_TOKEN2\")\n",
    "# ma_key2 = os.getenv(\"MARKETAUX_TOKEN3\")\n",
    "# ma_key3 = os.getenv(\"MARKETAUX_TOKEN4\")\n",
    "# ma_key4 = os.getenv(\"MARKETAUX_TOKEN5\")\n",
    "\n",
    "# weeeks_prior_data_end_date = 12\n",
    "# forecast_days_ahead = 90\n",
    "# ticker_path = 'data/S&P500 tickers.csv'\n",
    "# forecast_img_path = 'images/forecast_temp/forecast.png'\n",
    "# include_sentiment = 'F'\n",
    "# model_to_use = 'NP'"
   ]
  },
  {
   "cell_type": "code",
   "execution_count": 8,
   "id": "c4364d50-77bb-4f16-b093-156be5dbb3bf",
   "metadata": {},
   "outputs": [],
   "source": [
    "# print(weeeks_prior_data_end_date)\n",
    "# print(forecast_days_ahead)\n",
    "# print(ticker_path)\n",
    "# print(forecast_img_path)\n",
    "# print(include_sentiment)\n",
    "# print(model_to_use)"
   ]
  },
  {
   "cell_type": "code",
   "execution_count": 14,
   "id": "21330901-c01b-44bf-99bb-5963f90e3957",
   "metadata": {},
   "outputs": [],
   "source": [
    "def load_tickers(ticker_path):\n",
    "    \"\"\"\n",
    "    Takes five hundred tickers, which is max calls of yfinance for public ip.\n",
    "    \"\"\"\n",
    "    ticker_file_path = Path(ticker_path)\n",
    "    ticker_df = pd.read_csv(ticker_file_path)\n",
    "    prophet_ticker_list = ticker_df['Symbol'].head(500).to_list()\n",
    "    return prophet_ticker_list\n",
    "\n",
    "def django_get(url):\n",
    "    response = requests.get(url)\n",
    "    response_json = response.json()\n",
    "    return response_json\n",
    "\n",
    "def clear_django_sql_db(url):\n",
    "    \"\"\"\n",
    "    Clears the sql db in the django api.\n",
    "    \"DJANGO_SERVER_URL\" is provided in .env file.\n",
    "    \"\"\"\n",
    "\n",
    "    try:\n",
    "        django_api_items = django_get(url)\n",
    "\n",
    "        if len(django_api_items) != 0:\n",
    "            for x, index_id in enumerate(django_api_items):\n",
    "                x += 1\n",
    "                str_indx = str(index_id['id'])\n",
    "\n",
    "                if x == 1:\n",
    "                    url += str(str_indx)\n",
    "                    requests.delete(url)\n",
    "                    # print(f'entered if block\\t{url}')\n",
    "                else:\n",
    "                    try:\n",
    "                        url = url[:-len(str_indx)] + str_indx\n",
    "                        requests.delete(url)\n",
    "                        # print(f'entered else block\\t{url}')\n",
    "                    # For when the number of digits change\n",
    "                    except:\n",
    "                        url = url[:-len(str_indx) + 1] + str_indx\n",
    "                        requests.delete(url)                    \n",
    "                        # print(f'entered else block\\t{url}')\n",
    "            print(f\"Django SQL DB cleared:\\n\\n{django_get(url)}\")\n",
    "        else:\n",
    "            print(f\"Django SQL DB Already empty:\\n\\n{django_get(url)}\")\n",
    "    except:\n",
    "        print(f\"Django server did not clear:\\n\\n{django_get(url)}\")\n",
    "\n",
    "def run_prophet(timeserie, forecast_ahead = forecast_days_ahead):\n",
    "    model = Prophet(interval_width=0.95, changepoint_range=0.75, changepoint_prior_scale=0.05)\n",
    "    # model = Prophet(yearly_seasonality=False,daily_seasonality=False)\n",
    "    model.fit(timeserie)\n",
    "    forecast = model.make_future_dataframe(periods=forecast_ahead, include_history=True)\n",
    "    forecast = model.predict(forecast)\n",
    "    return forecast\n",
    "\n",
    "def run_nueral_prophet(timeserie, forecast_ahead = forecast_days_ahead):\n",
    "    # m1 = NeuralProphet()\n",
    "    # m1 = NeuralProphet(epochs=100)\n",
    "    m1 = NeuralProphet(changepoints_range=0.75)\n",
    "    # metrics = m1.fit(timeserie, freq=\"D\", minimal=True)\n",
    "    metrics = m1.fit(timeserie, freq=\"D\")\n",
    "    future = m1.make_future_dataframe(df=timeserie, periods=forecast_ahead, n_historic_predictions=True)\n",
    "    forecast = m1.predict(future)\n",
    "    forecast = forecast.rename(columns={'yhat1':'yhat'})\n",
    "    return forecast\n",
    "\n",
    "def make_plots(prediction, seri, adj_cl, idx):\n",
    "\n",
    "    forecast_plot = pd.DataFrame()\n",
    "    if model_to_use == 'FBP': forecast_plot = pd.merge(left=prediction, right=seri, on='ds', how='outer')\n",
    "    else: forecast_plot = prediction\n",
    "    ticker_sym = adj_cl\n",
    "    \n",
    "    if idx < 100:\n",
    "        ma_key_valu = ma_key\n",
    "    elif idx < 200:\n",
    "        ma_key_valu = ma_key1\n",
    "    elif idx < 300:\n",
    "        ma_key_valu = ma_key2\n",
    "    elif idx < 400:\n",
    "        ma_key_valu = ma_key3\n",
    "    else:\n",
    "        ma_key_valu = ma_key4\n",
    "        \n",
    "    # SENTIMENT\n",
    "    if include_sentiment == 'T':\n",
    "        try:\n",
    "            ma_url = f'https://api.marketaux.com/v1/news/all?symbols={ticker_sym}&filter_entities=true&group_similar=false&language=en&api_token={ma_key_valu}'\n",
    "            setntiment_data = requests.get(ma_url).json()\n",
    "\n",
    "            mean_score = 0\n",
    "            for i in range(len(setntiment_data['data'])):\n",
    "                mean_score += setntiment_data['data'][i]['entities'][0]['sentiment_score']\n",
    "\n",
    "            mean_score /= len(setntiment_data['data'])\n",
    "        except:\n",
    "            mean_score = 'NULL'\n",
    "    else:\n",
    "        mean_score = 'NULL'\n",
    "    \n",
    "    ########################################################################\n",
    "    ## ENCODE QUANTILES FOR FORECASTS USING PCT_CHANGE OF HISTORICAL DATA ##\n",
    "    ########################################################################\n",
    "    forecast_plot.index = forecast_plot['ds']\n",
    "    yhat_descriptive_stats = forecast_plot[['y']].dropna().pct_change().dropna().dot([1000]).astype(int).describe()\n",
    "\n",
    "    twentyfive_percent = float(yhat_descriptive_stats.iloc[4])\n",
    "    fifty_percent = float(yhat_descriptive_stats.iloc[5])\n",
    "    seventy_five_percent = float(yhat_descriptive_stats.iloc[6])\n",
    "\n",
    "    def encode_quantiles (z):     \n",
    "        if z < twentyfive_percent: z = 0\n",
    "        elif z < fifty_percent: z = 1\n",
    "        elif z < seventy_five_percent: z = 3\n",
    "        else: z = 4\n",
    "        return z\n",
    "\n",
    "    weather_df = forecast_plot[['yhat']].pct_change().dropna().dot([1000]).astype(int)[-forecast_days_ahead:-(forecast_days_ahead - 10)].apply(encode_quantiles)\n",
    "    weather_df = [[str(x)[-22:] for x in weather_df.index], [y for y in weather_df]]\n",
    "\n",
    "    \n",
    "    # MAKE FORECAST PLOTS\n",
    "    forecast_plot = forecast_plot[-(forecast_days_ahead - 10) - 30:-(forecast_days_ahead - 10)]\n",
    "    # forecast_plot.index = forecast_plot['ds']\n",
    "\n",
    "    with plt.style.context('dark_background'):\n",
    "        fig, ax = plt.subplots()\n",
    "        forecast_plot[['y','yhat']].plot(ax=ax, figsize = (4,5), style=['o-','--'],color=['r','lightblue'],linewidth=1)\n",
    "        ax.set_xlabel('Date', fontdict={'size':12})\n",
    "        ax.set_ylabel('Price', fontdict={'size':12})\n",
    "        ax.yaxis.set_major_formatter('${x:,.0f}')\n",
    "        ax.legend(['Actual','Forecasted'], title= f'{ticker_sym}', loc='upper center', frameon=False)\n",
    "        # ax.set_facecolor('xkcd:black')\n",
    "    # plt.show()\n",
    "    try:\n",
    "        # new_forecast_img_path = forecast_img_path + F'_{ticker_sym}.png'\n",
    "        # fig.savefig(new_forecast_img_path)\n",
    "        fig.savefig(forecast_img_path)\n",
    "        with open(forecast_img_path, \"rb\") as image2string:\n",
    "        # with open(new_forecast_img_path, \"rb\") as image2string:\n",
    "            converted_string = base64.b64encode(image2string.read())\n",
    "        image2string.close()\n",
    "\n",
    "        # JSON TO BE POSTED TO API\n",
    "        json_post = {\n",
    "            \"ticker\": f\"{ticker_sym}\",\n",
    "            \"time\": f'{today}'[:16],\n",
    "            \"encoded_string\": f\"{converted_string}\",\n",
    "            \"emoticons\": f\"{weather_df}\",\n",
    "            \"sentiment\": f\"{mean_score}\"\n",
    "        }\n",
    "\n",
    "        try:\n",
    "            requests.post(url,json_post)\n",
    "            print(f\"+++ {ticker_sym} success!\")\n",
    "        except:\n",
    "            print(f\"\\t--- {ticker_sym} failed ---\")\n",
    "    except:\n",
    "        print(f\"\\t---# {ticker_sym} failed #---\")\n",
    "        print(\"\\n\\n\\tyfinance API daily limit reached.\")"
   ]
  },
  {
   "cell_type": "code",
   "execution_count": 10,
   "id": "00507fad-39f1-48b3-ae5b-c845ba57d5ec",
   "metadata": {},
   "outputs": [
    {
     "name": "stdout",
     "output_type": "stream",
     "text": [
      "[*********************100%***********************]  500 of 500 completed\n",
      "\n",
      "2 Failed downloads:\n",
      "- BF.B: No data found for this date range, symbol may be delisted\n",
      "- BRK.B: No data found, symbol may be delisted\n"
     ]
    },
    {
     "data": {
      "application/vnd.jupyter.widget-view+json": {
       "model_id": "374f0b17a080405ea4b27fec10495a90",
       "version_major": 2,
       "version_minor": 0
      },
      "text/plain": [
       "  0%|          | 0/498 [00:00<?, ?it/s]"
      ]
     },
     "metadata": {},
     "output_type": "display_data"
    },
    {
     "name": "stderr",
     "output_type": "stream",
     "text": [
      "                                                                 \r"
     ]
    },
    {
     "data": {
      "application/vnd.jupyter.widget-view+json": {
       "model_id": "07c342605df84c7da799cee4198b634d",
       "version_major": 2,
       "version_minor": 0
      },
      "text/plain": [
       "  0%|          | 0/104 [00:00<?, ?it/s]"
      ]
     },
     "metadata": {},
     "output_type": "display_data"
    },
    {
     "data": {
      "application/vnd.jupyter.widget-view+json": {
       "model_id": "6bb75531a571430898afebaddfbcf74d",
       "version_major": 2,
       "version_minor": 0
      },
      "text/plain": [
       "  0%|          | 0/104 [00:00<?, ?it/s]"
      ]
     },
     "metadata": {},
     "output_type": "display_data"
    },
    {
     "data": {
      "application/vnd.jupyter.widget-view+json": {
       "model_id": "e7afbef7ff65437a84d772f7565219aa",
       "version_major": 2,
       "version_minor": 0
      },
      "text/plain": [
       "  0%|          | 0/104 [00:00<?, ?it/s]"
      ]
     },
     "metadata": {},
     "output_type": "display_data"
    },
    {
     "data": {
      "application/vnd.jupyter.widget-view+json": {
       "model_id": "68870d2e63504fc8a5cdde251e14cc87",
       "version_major": 2,
       "version_minor": 0
      },
      "text/plain": [
       "  0%|          | 0/104 [00:00<?, ?it/s]"
      ]
     },
     "metadata": {},
     "output_type": "display_data"
    },
    {
     "data": {
      "application/vnd.jupyter.widget-view+json": {
       "model_id": "3cb8446504fd433ba61585a8721ae47a",
       "version_major": 2,
       "version_minor": 0
      },
      "text/plain": [
       "  0%|          | 0/104 [00:00<?, ?it/s]"
      ]
     },
     "metadata": {},
     "output_type": "display_data"
    },
    {
     "data": {
      "application/vnd.jupyter.widget-view+json": {
       "model_id": "283ecdde86c24a439d7bac84de6f06cd",
       "version_major": 2,
       "version_minor": 0
      },
      "text/plain": [
       "  0%|          | 0/104 [00:00<?, ?it/s]"
      ]
     },
     "metadata": {},
     "output_type": "display_data"
    },
    {
     "data": {
      "application/vnd.jupyter.widget-view+json": {
       "model_id": "709c6d7f9b9547f9bf29a9b891b2b504",
       "version_major": 2,
       "version_minor": 0
      },
      "text/plain": [
       "  0%|          | 0/104 [00:00<?, ?it/s]"
      ]
     },
     "metadata": {},
     "output_type": "display_data"
    },
    {
     "data": {
      "application/vnd.jupyter.widget-view+json": {
       "model_id": "7ecf04b0331f4f0995ed206fe9d79c04",
       "version_major": 2,
       "version_minor": 0
      },
      "text/plain": [
       "  0%|          | 0/104 [00:00<?, ?it/s]"
      ]
     },
     "metadata": {},
     "output_type": "display_data"
    },
    {
     "data": {
      "application/vnd.jupyter.widget-view+json": {
       "model_id": "05c1d353a18946d4a5c6186d2c595aae",
       "version_major": 2,
       "version_minor": 0
      },
      "text/plain": [
       "  0%|          | 0/104 [00:00<?, ?it/s]"
      ]
     },
     "metadata": {},
     "output_type": "display_data"
    },
    {
     "data": {
      "application/vnd.jupyter.widget-view+json": {
       "model_id": "b6aa0a10886d4318997aeeab13ebd511",
       "version_major": 2,
       "version_minor": 0
      },
      "text/plain": [
       "  0%|          | 0/104 [00:00<?, ?it/s]"
      ]
     },
     "metadata": {},
     "output_type": "display_data"
    },
    {
     "data": {
      "application/vnd.jupyter.widget-view+json": {
       "model_id": "6857e0d53b9040f69c26b253528b50ea",
       "version_major": 2,
       "version_minor": 0
      },
      "text/plain": [
       "  0%|          | 0/104 [00:00<?, ?it/s]"
      ]
     },
     "metadata": {},
     "output_type": "display_data"
    },
    {
     "data": {
      "application/vnd.jupyter.widget-view+json": {
       "model_id": "8427961a3e8b4af0b1aa8f3674a0a64b",
       "version_major": 2,
       "version_minor": 0
      },
      "text/plain": [
       "  0%|          | 0/104 [00:00<?, ?it/s]"
      ]
     },
     "metadata": {},
     "output_type": "display_data"
    },
    {
     "data": {
      "application/vnd.jupyter.widget-view+json": {
       "model_id": "52eb609616b94397a17241673ab13b99",
       "version_major": 2,
       "version_minor": 0
      },
      "text/plain": [
       "  0%|          | 0/104 [00:00<?, ?it/s]"
      ]
     },
     "metadata": {},
     "output_type": "display_data"
    },
    {
     "data": {
      "application/vnd.jupyter.widget-view+json": {
       "model_id": "398adf130f484008a1eb2d54d0036847",
       "version_major": 2,
       "version_minor": 0
      },
      "text/plain": [
       "  0%|          | 0/104 [00:00<?, ?it/s]"
      ]
     },
     "metadata": {},
     "output_type": "display_data"
    },
    {
     "data": {
      "application/vnd.jupyter.widget-view+json": {
       "model_id": "e58d6a83b1b64176a790a7a4d0f24619",
       "version_major": 2,
       "version_minor": 0
      },
      "text/plain": [
       "  0%|          | 0/104 [00:00<?, ?it/s]"
      ]
     },
     "metadata": {},
     "output_type": "display_data"
    },
    {
     "data": {
      "application/vnd.jupyter.widget-view+json": {
       "model_id": "2c426f469f274fbaa8eafc0c8d45db61",
       "version_major": 2,
       "version_minor": 0
      },
      "text/plain": [
       "  0%|          | 0/104 [00:00<?, ?it/s]"
      ]
     },
     "metadata": {},
     "output_type": "display_data"
    },
    {
     "name": "stderr",
     "output_type": "stream",
     "text": [
      "Epoch[774/778]:  99%|█████████▉| 773/778 [00:13<00:00, 58.10it/s]"
     ]
    },
    {
     "data": {
      "application/vnd.jupyter.widget-view+json": {
       "model_id": "239ae11b2b814147b64ddbf335050534",
       "version_major": 2,
       "version_minor": 0
      },
      "text/plain": [
       "  0%|          | 0/104 [00:00<?, ?it/s]"
      ]
     },
     "metadata": {},
     "output_type": "display_data"
    },
    {
     "name": "stderr",
     "output_type": "stream",
     "text": [
      "Epoch[767/778]:  98%|█████████▊| 766/778 [00:14<00:00, 52.87it/s]"
     ]
    },
    {
     "data": {
      "application/vnd.jupyter.widget-view+json": {
       "model_id": "4891b8926ef8494d82d8ee6766916084",
       "version_major": 2,
       "version_minor": 0
      },
      "text/plain": [
       "  0%|          | 0/104 [00:00<?, ?it/s]"
      ]
     },
     "metadata": {},
     "output_type": "display_data"
    },
    {
     "name": "stderr",
     "output_type": "stream",
     "text": [
      "Epoch[776/778]:  99%|█████████▉| 773/778 [00:14<00:00, 55.28it/s]"
     ]
    },
    {
     "data": {
      "application/vnd.jupyter.widget-view+json": {
       "model_id": "fae8ce76b10b4f56bf5ce9bc65ad74a6",
       "version_major": 2,
       "version_minor": 0
      },
      "text/plain": [
       "  0%|          | 0/104 [00:00<?, ?it/s]"
      ]
     },
     "metadata": {},
     "output_type": "display_data"
    },
    {
     "data": {
      "application/vnd.jupyter.widget-view+json": {
       "model_id": "0bb3726054554ce2acec6ebb20b9ced6",
       "version_major": 2,
       "version_minor": 0
      },
      "text/plain": [
       "  0%|          | 0/104 [00:00<?, ?it/s]"
      ]
     },
     "metadata": {},
     "output_type": "display_data"
    },
    {
     "name": "stderr",
     "output_type": "stream",
     "text": [
      "Epoch[777/778]:  99%|█████████▉| 773/778 [00:14<00:00, 55.28it/s]"
     ]
    },
    {
     "data": {
      "application/vnd.jupyter.widget-view+json": {
       "model_id": "f45eeb25a7844465beb56d479caaa4df",
       "version_major": 2,
       "version_minor": 0
      },
      "text/plain": [
       "  0%|          | 0/104 [00:00<?, ?it/s]"
      ]
     },
     "metadata": {},
     "output_type": "display_data"
    },
    {
     "name": "stderr",
     "output_type": "stream",
     "text": [
      "                                                                 \r"
     ]
    },
    {
     "data": {
      "application/vnd.jupyter.widget-view+json": {
       "model_id": "c825e2fc0616466ea04b810065ce6a26",
       "version_major": 2,
       "version_minor": 0
      },
      "text/plain": [
       "  0%|          | 0/104 [00:00<?, ?it/s]"
      ]
     },
     "metadata": {},
     "output_type": "display_data"
    },
    {
     "data": {
      "application/vnd.jupyter.widget-view+json": {
       "model_id": "0cc0bd45693f4a649e80947298ffa748",
       "version_major": 2,
       "version_minor": 0
      },
      "text/plain": [
       "  0%|          | 0/104 [00:00<?, ?it/s]"
      ]
     },
     "metadata": {},
     "output_type": "display_data"
    },
    {
     "data": {
      "application/vnd.jupyter.widget-view+json": {
       "model_id": "ff76525c49284c0ea450c70d377b317b",
       "version_major": 2,
       "version_minor": 0
      },
      "text/plain": [
       "  0%|          | 0/104 [00:00<?, ?it/s]"
      ]
     },
     "metadata": {},
     "output_type": "display_data"
    },
    {
     "data": {
      "application/vnd.jupyter.widget-view+json": {
       "model_id": "10806b53292640069fae5ff99d5dad3b",
       "version_major": 2,
       "version_minor": 0
      },
      "text/plain": [
       "  0%|          | 0/104 [00:00<?, ?it/s]"
      ]
     },
     "metadata": {},
     "output_type": "display_data"
    },
    {
     "data": {
      "application/vnd.jupyter.widget-view+json": {
       "model_id": "4d5054f4b1cb4d18b1b82bc697c5e4a6",
       "version_major": 2,
       "version_minor": 0
      },
      "text/plain": [
       "  0%|          | 0/104 [00:00<?, ?it/s]"
      ]
     },
     "metadata": {},
     "output_type": "display_data"
    },
    {
     "data": {
      "application/vnd.jupyter.widget-view+json": {
       "model_id": "d662114b8a824cf4a126fc6561877ffa",
       "version_major": 2,
       "version_minor": 0
      },
      "text/plain": [
       "  0%|          | 0/104 [00:00<?, ?it/s]"
      ]
     },
     "metadata": {},
     "output_type": "display_data"
    },
    {
     "data": {
      "application/vnd.jupyter.widget-view+json": {
       "model_id": "b8a4cc2a992047d78348f785bdc452b8",
       "version_major": 2,
       "version_minor": 0
      },
      "text/plain": [
       "  0%|          | 0/104 [00:00<?, ?it/s]"
      ]
     },
     "metadata": {},
     "output_type": "display_data"
    },
    {
     "data": {
      "application/vnd.jupyter.widget-view+json": {
       "model_id": "d3fbb427d9c0425a96f1107fbeffa6e9",
       "version_major": 2,
       "version_minor": 0
      },
      "text/plain": [
       "  0%|          | 0/104 [00:00<?, ?it/s]"
      ]
     },
     "metadata": {},
     "output_type": "display_data"
    },
    {
     "data": {
      "application/vnd.jupyter.widget-view+json": {
       "model_id": "a8de0158e8024c91a49498ed436cdb78",
       "version_major": 2,
       "version_minor": 0
      },
      "text/plain": [
       "  0%|          | 0/104 [00:00<?, ?it/s]"
      ]
     },
     "metadata": {},
     "output_type": "display_data"
    },
    {
     "data": {
      "application/vnd.jupyter.widget-view+json": {
       "model_id": "a36d18dd73b44863b9d8bec6f7cc42b4",
       "version_major": 2,
       "version_minor": 0
      },
      "text/plain": [
       "  0%|          | 0/104 [00:00<?, ?it/s]"
      ]
     },
     "metadata": {},
     "output_type": "display_data"
    },
    {
     "data": {
      "application/vnd.jupyter.widget-view+json": {
       "model_id": "50f0999c262a4aa784213cb20f7188b1",
       "version_major": 2,
       "version_minor": 0
      },
      "text/plain": [
       "  0%|          | 0/104 [00:00<?, ?it/s]"
      ]
     },
     "metadata": {},
     "output_type": "display_data"
    },
    {
     "name": "stderr",
     "output_type": "stream",
     "text": [
      "Epoch[754/778]:  97%|█████████▋| 751/778 [00:13<00:00, 56.94it/s]"
     ]
    },
    {
     "data": {
      "application/vnd.jupyter.widget-view+json": {
       "model_id": "048c8d3f52ea4aa8b1fea99cad4775e6",
       "version_major": 2,
       "version_minor": 0
      },
      "text/plain": [
       "  0%|          | 0/104 [00:00<?, ?it/s]"
      ]
     },
     "metadata": {},
     "output_type": "display_data"
    },
    {
     "name": "stderr",
     "output_type": "stream",
     "text": [
      "Epoch[765/778]:  98%|█████████▊| 764/778 [00:13<00:00, 55.61it/s]"
     ]
    },
    {
     "data": {
      "application/vnd.jupyter.widget-view+json": {
       "model_id": "f2f36f4f5e954f8cb9f1722059c57aa3",
       "version_major": 2,
       "version_minor": 0
      },
      "text/plain": [
       "  0%|          | 0/104 [00:00<?, ?it/s]"
      ]
     },
     "metadata": {},
     "output_type": "display_data"
    },
    {
     "name": "stderr",
     "output_type": "stream",
     "text": [
      "Epoch[766/778]:  98%|█████████▊| 765/778 [00:14<00:00, 54.07it/s]"
     ]
    },
    {
     "data": {
      "application/vnd.jupyter.widget-view+json": {
       "model_id": "c61fe590cab0420e991f054ec0d47e04",
       "version_major": 2,
       "version_minor": 0
      },
      "text/plain": [
       "  0%|          | 0/104 [00:00<?, ?it/s]"
      ]
     },
     "metadata": {},
     "output_type": "display_data"
    },
    {
     "name": "stderr",
     "output_type": "stream",
     "text": [
      "Epoch[769/778]:  98%|█████████▊| 764/778 [00:14<00:00, 55.61it/s]"
     ]
    },
    {
     "data": {
      "application/vnd.jupyter.widget-view+json": {
       "model_id": "2c41e324491a442d9b20dafa6a82f73e",
       "version_major": 2,
       "version_minor": 0
      },
      "text/plain": [
       "  0%|          | 0/104 [00:00<?, ?it/s]"
      ]
     },
     "metadata": {},
     "output_type": "display_data"
    },
    {
     "name": "stderr",
     "output_type": "stream",
     "text": [
      "Epoch[771/778]:  99%|█████████▉| 769/778 [00:14<00:00, 52.04it/s]"
     ]
    },
    {
     "data": {
      "application/vnd.jupyter.widget-view+json": {
       "model_id": "f91095d80bd0411486fe8c0db1b40331",
       "version_major": 2,
       "version_minor": 0
      },
      "text/plain": [
       "  0%|          | 0/104 [00:00<?, ?it/s]"
      ]
     },
     "metadata": {},
     "output_type": "display_data"
    },
    {
     "name": "stderr",
     "output_type": "stream",
     "text": [
      "                                                                 \r"
     ]
    },
    {
     "data": {
      "application/vnd.jupyter.widget-view+json": {
       "model_id": "5efc70f6fde3445fb620f8fed65a269d",
       "version_major": 2,
       "version_minor": 0
      },
      "text/plain": [
       "  0%|          | 0/104 [00:00<?, ?it/s]"
      ]
     },
     "metadata": {},
     "output_type": "display_data"
    },
    {
     "data": {
      "application/vnd.jupyter.widget-view+json": {
       "model_id": "51f7f2989af64e88bf0b6dbe7bd219e9",
       "version_major": 2,
       "version_minor": 0
      },
      "text/plain": [
       "  0%|          | 0/104 [00:00<?, ?it/s]"
      ]
     },
     "metadata": {},
     "output_type": "display_data"
    },
    {
     "data": {
      "application/vnd.jupyter.widget-view+json": {
       "model_id": "0c48da3afc1041b5a7e1959fff1fdd20",
       "version_major": 2,
       "version_minor": 0
      },
      "text/plain": [
       "  0%|          | 0/104 [00:00<?, ?it/s]"
      ]
     },
     "metadata": {},
     "output_type": "display_data"
    },
    {
     "data": {
      "application/vnd.jupyter.widget-view+json": {
       "model_id": "b1d615ea9d5f4823865bc1bfe80db6d1",
       "version_major": 2,
       "version_minor": 0
      },
      "text/plain": [
       "  0%|          | 0/104 [00:00<?, ?it/s]"
      ]
     },
     "metadata": {},
     "output_type": "display_data"
    },
    {
     "data": {
      "application/vnd.jupyter.widget-view+json": {
       "model_id": "77ae2515ca5f4ceb923e9e6d76e90d7d",
       "version_major": 2,
       "version_minor": 0
      },
      "text/plain": [
       "  0%|          | 0/104 [00:00<?, ?it/s]"
      ]
     },
     "metadata": {},
     "output_type": "display_data"
    },
    {
     "data": {
      "application/vnd.jupyter.widget-view+json": {
       "model_id": "d79ddda88d1849ddbd4e3235ff806dfb",
       "version_major": 2,
       "version_minor": 0
      },
      "text/plain": [
       "  0%|          | 0/104 [00:00<?, ?it/s]"
      ]
     },
     "metadata": {},
     "output_type": "display_data"
    },
    {
     "data": {
      "application/vnd.jupyter.widget-view+json": {
       "model_id": "52c5ca3e07d94795acf3f2939b2c51dd",
       "version_major": 2,
       "version_minor": 0
      },
      "text/plain": [
       "  0%|          | 0/104 [00:00<?, ?it/s]"
      ]
     },
     "metadata": {},
     "output_type": "display_data"
    },
    {
     "data": {
      "application/vnd.jupyter.widget-view+json": {
       "model_id": "f0db5679f3b045eaa02796cf819bdfa5",
       "version_major": 2,
       "version_minor": 0
      },
      "text/plain": [
       "  0%|          | 0/104 [00:00<?, ?it/s]"
      ]
     },
     "metadata": {},
     "output_type": "display_data"
    },
    {
     "name": "stderr",
     "output_type": "stream",
     "text": [
      "Epoch[11/778]:   1%|          | 7/778 [00:00<00:12, 59.98it/s]"
     ]
    },
    {
     "data": {
      "application/vnd.jupyter.widget-view+json": {
       "model_id": "cb7ac84476884eb7ab4d251bd1c954ca",
       "version_major": 2,
       "version_minor": 0
      },
      "text/plain": [
       "  0%|          | 0/104 [00:00<?, ?it/s]"
      ]
     },
     "metadata": {},
     "output_type": "display_data"
    },
    {
     "name": "stderr",
     "output_type": "stream",
     "text": [
      "Epoch[16/778]:   2%|▏         | 15/778 [00:00<00:12, 61.43it/s]"
     ]
    },
    {
     "data": {
      "application/vnd.jupyter.widget-view+json": {
       "model_id": "da775ca52f6e4ce080fed014dfa6b82b",
       "version_major": 2,
       "version_minor": 0
      },
      "text/plain": [
       "  0%|          | 0/104 [00:00<?, ?it/s]"
      ]
     },
     "metadata": {},
     "output_type": "display_data"
    },
    {
     "name": "stderr",
     "output_type": "stream",
     "text": [
      "Epoch[23/778]:   3%|▎         | 22/778 [00:00<00:12, 62.76it/s]"
     ]
    },
    {
     "data": {
      "application/vnd.jupyter.widget-view+json": {
       "model_id": "e0f176e66a064f5c925c12db35ee207b",
       "version_major": 2,
       "version_minor": 0
      },
      "text/plain": [
       "  0%|          | 0/104 [00:00<?, ?it/s]"
      ]
     },
     "metadata": {},
     "output_type": "display_data"
    },
    {
     "name": "stderr",
     "output_type": "stream",
     "text": [
      "Epoch[751/778]:  96%|█████████▌| 748/778 [00:13<00:00, 48.84it/s]"
     ]
    },
    {
     "data": {
      "application/vnd.jupyter.widget-view+json": {
       "model_id": "13d077c8f9974401b43b0c9cefd3c12f",
       "version_major": 2,
       "version_minor": 0
      },
      "text/plain": [
       "  0%|          | 0/104 [00:00<?, ?it/s]"
      ]
     },
     "metadata": {},
     "output_type": "display_data"
    },
    {
     "name": "stderr",
     "output_type": "stream",
     "text": [
      "Epoch[760/778]:  98%|█████████▊| 759/778 [00:13<00:00, 59.76it/s]"
     ]
    },
    {
     "data": {
      "application/vnd.jupyter.widget-view+json": {
       "model_id": "5ea6a6f1f6b7482c9a669c5a9978fa14",
       "version_major": 2,
       "version_minor": 0
      },
      "text/plain": [
       "  0%|          | 0/104 [00:00<?, ?it/s]"
      ]
     },
     "metadata": {},
     "output_type": "display_data"
    },
    {
     "name": "stderr",
     "output_type": "stream",
     "text": [
      "Epoch[769/778]:  99%|█████████▊| 767/778 [00:14<00:00, 49.54it/s]"
     ]
    },
    {
     "data": {
      "application/vnd.jupyter.widget-view+json": {
       "model_id": "f93a4f8d9ff747009dfb007846eac28b",
       "version_major": 2,
       "version_minor": 0
      },
      "text/plain": [
       "  0%|          | 0/104 [00:00<?, ?it/s]"
      ]
     },
     "metadata": {},
     "output_type": "display_data"
    },
    {
     "name": "stderr",
     "output_type": "stream",
     "text": [
      "Epoch[775/778]:  99%|█████████▉| 771/778 [00:13<00:00, 56.96it/s]"
     ]
    },
    {
     "data": {
      "application/vnd.jupyter.widget-view+json": {
       "model_id": "941ece45f0a34034a895c6052d368f34",
       "version_major": 2,
       "version_minor": 0
      },
      "text/plain": [
       "  0%|          | 0/104 [00:00<?, ?it/s]"
      ]
     },
     "metadata": {},
     "output_type": "display_data"
    },
    {
     "name": "stderr",
     "output_type": "stream",
     "text": [
      "Epoch[776/778]:  99%|█████████▉| 772/778 [00:14<00:00, 51.45it/s]"
     ]
    },
    {
     "data": {
      "application/vnd.jupyter.widget-view+json": {
       "model_id": "67b3e033bd2544759dad08f89c373f15",
       "version_major": 2,
       "version_minor": 0
      },
      "text/plain": [
       "  0%|          | 0/104 [00:00<?, ?it/s]"
      ]
     },
     "metadata": {},
     "output_type": "display_data"
    },
    {
     "name": "stderr",
     "output_type": "stream",
     "text": [
      "Epoch[778/778]:  99%|█████████▉| 772/778 [00:14<00:00, 51.45it/s]"
     ]
    },
    {
     "data": {
      "application/vnd.jupyter.widget-view+json": {
       "model_id": "8c154cb150ba4268a9c4fc15b011149a",
       "version_major": 2,
       "version_minor": 0
      },
      "text/plain": [
       "  0%|          | 0/104 [00:00<?, ?it/s]"
      ]
     },
     "metadata": {},
     "output_type": "display_data"
    },
    {
     "name": "stderr",
     "output_type": "stream",
     "text": [
      "                                                                 \r"
     ]
    },
    {
     "data": {
      "application/vnd.jupyter.widget-view+json": {
       "model_id": "07ed6b458816422eb0ad0679d180da8d",
       "version_major": 2,
       "version_minor": 0
      },
      "text/plain": [
       "  0%|          | 0/104 [00:00<?, ?it/s]"
      ]
     },
     "metadata": {},
     "output_type": "display_data"
    },
    {
     "data": {
      "application/vnd.jupyter.widget-view+json": {
       "model_id": "7f1a834fa41447169b37d3c9ec17d3dd",
       "version_major": 2,
       "version_minor": 0
      },
      "text/plain": [
       "  0%|          | 0/104 [00:00<?, ?it/s]"
      ]
     },
     "metadata": {},
     "output_type": "display_data"
    },
    {
     "data": {
      "application/vnd.jupyter.widget-view+json": {
       "model_id": "60af6cfab4da4fadaa08594f786cc795",
       "version_major": 2,
       "version_minor": 0
      },
      "text/plain": [
       "  0%|          | 0/104 [00:00<?, ?it/s]"
      ]
     },
     "metadata": {},
     "output_type": "display_data"
    },
    {
     "data": {
      "application/vnd.jupyter.widget-view+json": {
       "model_id": "520acf7f6cbb4364a1c9e338bed67b60",
       "version_major": 2,
       "version_minor": 0
      },
      "text/plain": [
       "  0%|          | 0/104 [00:00<?, ?it/s]"
      ]
     },
     "metadata": {},
     "output_type": "display_data"
    },
    {
     "data": {
      "application/vnd.jupyter.widget-view+json": {
       "model_id": "a7023035dd3641b6a26bc5d0a553e0c6",
       "version_major": 2,
       "version_minor": 0
      },
      "text/plain": [
       "  0%|          | 0/104 [00:00<?, ?it/s]"
      ]
     },
     "metadata": {},
     "output_type": "display_data"
    },
    {
     "data": {
      "application/vnd.jupyter.widget-view+json": {
       "model_id": "30f597c2f1504374b0def58ee5f8b2c9",
       "version_major": 2,
       "version_minor": 0
      },
      "text/plain": [
       "  0%|          | 0/104 [00:00<?, ?it/s]"
      ]
     },
     "metadata": {},
     "output_type": "display_data"
    },
    {
     "name": "stderr",
     "output_type": "stream",
     "text": [
      "  0%|          | 0/778 [00:00<?, ?it/s]"
     ]
    },
    {
     "data": {
      "application/vnd.jupyter.widget-view+json": {
       "model_id": "524c0dd54e5548f1b5bbe68326c57c24",
       "version_major": 2,
       "version_minor": 0
      },
      "text/plain": [
       "  0%|          | 0/104 [00:00<?, ?it/s]"
      ]
     },
     "metadata": {},
     "output_type": "display_data"
    },
    {
     "name": "stderr",
     "output_type": "stream",
     "text": [
      "Epoch[9/778]:   1%|          | 7/778 [00:00<00:12, 63.16it/s]"
     ]
    },
    {
     "data": {
      "application/vnd.jupyter.widget-view+json": {
       "model_id": "29aef686c20c4c36871960a6e136d5eb",
       "version_major": 2,
       "version_minor": 0
      },
      "text/plain": [
       "  0%|          | 0/104 [00:00<?, ?it/s]"
      ]
     },
     "metadata": {},
     "output_type": "display_data"
    },
    {
     "name": "stderr",
     "output_type": "stream",
     "text": [
      "Epoch[14/778]:   2%|▏         | 14/778 [00:00<00:14, 54.28it/s]"
     ]
    },
    {
     "data": {
      "application/vnd.jupyter.widget-view+json": {
       "model_id": "5bc2ad45814a49679f51145bc91f0a53",
       "version_major": 2,
       "version_minor": 0
      },
      "text/plain": [
       "  0%|          | 0/104 [00:00<?, ?it/s]"
      ]
     },
     "metadata": {},
     "output_type": "display_data"
    },
    {
     "name": "stderr",
     "output_type": "stream",
     "text": [
      "Epoch[11/778]:   1%|▏         | 11/778 [00:00<00:14, 54.13it/s]"
     ]
    },
    {
     "data": {
      "application/vnd.jupyter.widget-view+json": {
       "model_id": "82f13f12b640457b9ab5f96cf0b046e8",
       "version_major": 2,
       "version_minor": 0
      },
      "text/plain": [
       "  0%|          | 0/104 [00:00<?, ?it/s]"
      ]
     },
     "metadata": {},
     "output_type": "display_data"
    },
    {
     "name": "stderr",
     "output_type": "stream",
     "text": [
      "Epoch[761/778]:  97%|█████████▋| 757/778 [00:13<00:00, 50.71it/s]"
     ]
    },
    {
     "data": {
      "application/vnd.jupyter.widget-view+json": {
       "model_id": "3ddf40e589904c0f8d1c984ef92697cc",
       "version_major": 2,
       "version_minor": 0
      },
      "text/plain": [
       "  0%|          | 0/104 [00:00<?, ?it/s]"
      ]
     },
     "metadata": {},
     "output_type": "display_data"
    },
    {
     "name": "stderr",
     "output_type": "stream",
     "text": [
      "Epoch[754/778]:  97%|█████████▋| 754/778 [00:13<00:00, 51.64it/s]"
     ]
    },
    {
     "data": {
      "application/vnd.jupyter.widget-view+json": {
       "model_id": "ab75495d5f3e40db9c55396efd9cbd4f",
       "version_major": 2,
       "version_minor": 0
      },
      "text/plain": [
       "  0%|          | 0/104 [00:00<?, ?it/s]"
      ]
     },
     "metadata": {},
     "output_type": "display_data"
    },
    {
     "name": "stderr",
     "output_type": "stream",
     "text": [
      "Epoch[759/778]:  97%|█████████▋| 754/778 [00:13<00:00, 51.64it/s]"
     ]
    },
    {
     "data": {
      "application/vnd.jupyter.widget-view+json": {
       "model_id": "0cf642055c194cd197ac919bb0d0633a",
       "version_major": 2,
       "version_minor": 0
      },
      "text/plain": [
       "  0%|          | 0/104 [00:00<?, ?it/s]"
      ]
     },
     "metadata": {},
     "output_type": "display_data"
    },
    {
     "name": "stderr",
     "output_type": "stream",
     "text": [
      "Epoch[776/778]: 100%|█████████▉| 775/778 [00:14<00:00, 53.48it/s]"
     ]
    },
    {
     "data": {
      "application/vnd.jupyter.widget-view+json": {
       "model_id": "21830e9ad9454c1abcea20c330318c5b",
       "version_major": 2,
       "version_minor": 0
      },
      "text/plain": [
       "  0%|          | 0/104 [00:00<?, ?it/s]"
      ]
     },
     "metadata": {},
     "output_type": "display_data"
    },
    {
     "name": "stderr",
     "output_type": "stream",
     "text": [
      "Epoch[776/778]:  99%|█████████▉| 770/778 [00:14<00:00, 49.02it/s]"
     ]
    },
    {
     "data": {
      "application/vnd.jupyter.widget-view+json": {
       "model_id": "7d25d3296db5458bbee029a56c6e8de4",
       "version_major": 2,
       "version_minor": 0
      },
      "text/plain": [
       "  0%|          | 0/104 [00:00<?, ?it/s]"
      ]
     },
     "metadata": {},
     "output_type": "display_data"
    },
    {
     "name": "stderr",
     "output_type": "stream",
     "text": [
      "Epoch[777/778]:  99%|█████████▉| 770/778 [00:14<00:00, 49.02it/s]"
     ]
    },
    {
     "data": {
      "application/vnd.jupyter.widget-view+json": {
       "model_id": "6bd5cc1a6f8b41d1ac0ed8d27b018338",
       "version_major": 2,
       "version_minor": 0
      },
      "text/plain": [
       "  0%|          | 0/104 [00:00<?, ?it/s]"
      ]
     },
     "metadata": {},
     "output_type": "display_data"
    },
    {
     "name": "stderr",
     "output_type": "stream",
     "text": [
      "                                                                 \r"
     ]
    },
    {
     "data": {
      "application/vnd.jupyter.widget-view+json": {
       "model_id": "c962b90fb6824344a584b5c6648a9c68",
       "version_major": 2,
       "version_minor": 0
      },
      "text/plain": [
       "  0%|          | 0/104 [00:00<?, ?it/s]"
      ]
     },
     "metadata": {},
     "output_type": "display_data"
    },
    {
     "data": {
      "application/vnd.jupyter.widget-view+json": {
       "model_id": "f24aaeed073c4cd6b8b5e3f6b7aa51a9",
       "version_major": 2,
       "version_minor": 0
      },
      "text/plain": [
       "  0%|          | 0/104 [00:00<?, ?it/s]"
      ]
     },
     "metadata": {},
     "output_type": "display_data"
    },
    {
     "data": {
      "application/vnd.jupyter.widget-view+json": {
       "model_id": "a697e7be5fb945a0be1cb60560477fd5",
       "version_major": 2,
       "version_minor": 0
      },
      "text/plain": [
       "  0%|          | 0/104 [00:00<?, ?it/s]"
      ]
     },
     "metadata": {},
     "output_type": "display_data"
    },
    {
     "data": {
      "application/vnd.jupyter.widget-view+json": {
       "model_id": "e855bec9a6e64f6a85d06626898fed4a",
       "version_major": 2,
       "version_minor": 0
      },
      "text/plain": [
       "  0%|          | 0/104 [00:00<?, ?it/s]"
      ]
     },
     "metadata": {},
     "output_type": "display_data"
    },
    {
     "data": {
      "application/vnd.jupyter.widget-view+json": {
       "model_id": "7d329c57fa1145c5aaad2e15176095bc",
       "version_major": 2,
       "version_minor": 0
      },
      "text/plain": [
       "  0%|          | 0/104 [00:00<?, ?it/s]"
      ]
     },
     "metadata": {},
     "output_type": "display_data"
    },
    {
     "data": {
      "application/vnd.jupyter.widget-view+json": {
       "model_id": "43064752943a4b40a8b037561438cdfc",
       "version_major": 2,
       "version_minor": 0
      },
      "text/plain": [
       "  0%|          | 0/104 [00:00<?, ?it/s]"
      ]
     },
     "metadata": {},
     "output_type": "display_data"
    },
    {
     "name": "stderr",
     "output_type": "stream",
     "text": [
      "Epoch[7/778]:   1%|          | 6/778 [00:00<00:13, 55.18it/s]"
     ]
    },
    {
     "data": {
      "application/vnd.jupyter.widget-view+json": {
       "model_id": "3e129e5dedf741ed9510510cd9444ba4",
       "version_major": 2,
       "version_minor": 0
      },
      "text/plain": [
       "  0%|          | 0/104 [00:00<?, ?it/s]"
      ]
     },
     "metadata": {},
     "output_type": "display_data"
    },
    {
     "name": "stderr",
     "output_type": "stream",
     "text": [
      "Epoch[11/778]:   1%|          | 6/778 [00:00<00:13, 55.18it/s]"
     ]
    },
    {
     "data": {
      "application/vnd.jupyter.widget-view+json": {
       "model_id": "faf059facea34b8382b2efeb0d62bc45",
       "version_major": 2,
       "version_minor": 0
      },
      "text/plain": [
       "  0%|          | 0/104 [00:00<?, ?it/s]"
      ]
     },
     "metadata": {},
     "output_type": "display_data"
    },
    {
     "name": "stderr",
     "output_type": "stream",
     "text": [
      "Epoch[6/778]:   1%|          | 6/778 [00:00<00:13, 57.38it/s]s]"
     ]
    },
    {
     "data": {
      "application/vnd.jupyter.widget-view+json": {
       "model_id": "b4c47bc1bd3544ce9955d3b06e2a65d3",
       "version_major": 2,
       "version_minor": 0
      },
      "text/plain": [
       "  0%|          | 0/104 [00:00<?, ?it/s]"
      ]
     },
     "metadata": {},
     "output_type": "display_data"
    },
    {
     "name": "stderr",
     "output_type": "stream",
     "text": [
      "Epoch[22/778]:   2%|▏         | 18/778 [00:00<00:14, 52.24it/s]"
     ]
    },
    {
     "data": {
      "application/vnd.jupyter.widget-view+json": {
       "model_id": "a1dfa720d0a649eaa5335c99155cfa72",
       "version_major": 2,
       "version_minor": 0
      },
      "text/plain": [
       "  0%|          | 0/104 [00:00<?, ?it/s]"
      ]
     },
     "metadata": {},
     "output_type": "display_data"
    },
    {
     "name": "stderr",
     "output_type": "stream",
     "text": [
      "Epoch[769/778]:  99%|█████████▊| 767/778 [00:13<00:00, 54.87it/s]"
     ]
    },
    {
     "data": {
      "application/vnd.jupyter.widget-view+json": {
       "model_id": "d90e82d0be7642aa8281f59a709bfc25",
       "version_major": 2,
       "version_minor": 0
      },
      "text/plain": [
       "  0%|          | 0/104 [00:00<?, ?it/s]"
      ]
     },
     "metadata": {},
     "output_type": "display_data"
    },
    {
     "name": "stderr",
     "output_type": "stream",
     "text": [
      "Epoch[778/778]: 100%|█████████▉| 777/778 [00:13<00:00, 50.89it/s]"
     ]
    },
    {
     "data": {
      "application/vnd.jupyter.widget-view+json": {
       "model_id": "3e8fb631df4044f28ded493d52fce068",
       "version_major": 2,
       "version_minor": 0
      },
      "text/plain": [
       "  0%|          | 0/104 [00:00<?, ?it/s]"
      ]
     },
     "metadata": {},
     "output_type": "display_data"
    },
    {
     "name": "stderr",
     "output_type": "stream",
     "text": [
      "Epoch[767/778]:  98%|█████████▊| 766/778 [00:13<00:00, 56.62it/s]"
     ]
    },
    {
     "data": {
      "application/vnd.jupyter.widget-view+json": {
       "model_id": "0f7d575e6fd44080954cf1fd9269c326",
       "version_major": 2,
       "version_minor": 0
      },
      "text/plain": [
       "  0%|          | 0/104 [00:00<?, ?it/s]"
      ]
     },
     "metadata": {},
     "output_type": "display_data"
    },
    {
     "name": "stderr",
     "output_type": "stream",
     "text": [
      "Epoch[770/778]:  98%|█████████▊| 764/778 [00:13<00:00, 53.52it/s]"
     ]
    },
    {
     "data": {
      "application/vnd.jupyter.widget-view+json": {
       "model_id": "26b2007081914ab6962bc4e3c585456a",
       "version_major": 2,
       "version_minor": 0
      },
      "text/plain": [
       "  0%|          | 0/104 [00:00<?, ?it/s]"
      ]
     },
     "metadata": {},
     "output_type": "display_data"
    },
    {
     "data": {
      "application/vnd.jupyter.widget-view+json": {
       "model_id": "88953647e2ac4805988a38682366ad5e",
       "version_major": 2,
       "version_minor": 0
      },
      "text/plain": [
       "  0%|          | 0/104 [00:00<?, ?it/s]"
      ]
     },
     "metadata": {},
     "output_type": "display_data"
    },
    {
     "name": "stderr",
     "output_type": "stream",
     "text": [
      "Epoch[773/778]:  99%|█████████▉| 770/778 [00:14<00:00, 54.87it/s]"
     ]
    },
    {
     "data": {
      "application/vnd.jupyter.widget-view+json": {
       "model_id": "6313f030fdfa49159bd688914fdcd8ce",
       "version_major": 2,
       "version_minor": 0
      },
      "text/plain": [
       "  0%|          | 0/104 [00:00<?, ?it/s]"
      ]
     },
     "metadata": {},
     "output_type": "display_data"
    },
    {
     "name": "stderr",
     "output_type": "stream",
     "text": [
      "                                                                 \r"
     ]
    },
    {
     "data": {
      "application/vnd.jupyter.widget-view+json": {
       "model_id": "02d6c39c3afd4ecc8c6eb858aaed0686",
       "version_major": 2,
       "version_minor": 0
      },
      "text/plain": [
       "  0%|          | 0/104 [00:00<?, ?it/s]"
      ]
     },
     "metadata": {},
     "output_type": "display_data"
    },
    {
     "data": {
      "application/vnd.jupyter.widget-view+json": {
       "model_id": "212b38c0f1ad4a3f9ec6592f6657ba6e",
       "version_major": 2,
       "version_minor": 0
      },
      "text/plain": [
       "  0%|          | 0/104 [00:00<?, ?it/s]"
      ]
     },
     "metadata": {},
     "output_type": "display_data"
    },
    {
     "data": {
      "application/vnd.jupyter.widget-view+json": {
       "model_id": "92c51a8732844e6c9cd46508ca3ff4f2",
       "version_major": 2,
       "version_minor": 0
      },
      "text/plain": [
       "  0%|          | 0/104 [00:00<?, ?it/s]"
      ]
     },
     "metadata": {},
     "output_type": "display_data"
    },
    {
     "data": {
      "application/vnd.jupyter.widget-view+json": {
       "model_id": "7e2a7fab3f1d46dab6ef42832305cd4f",
       "version_major": 2,
       "version_minor": 0
      },
      "text/plain": [
       "  0%|          | 0/104 [00:00<?, ?it/s]"
      ]
     },
     "metadata": {},
     "output_type": "display_data"
    },
    {
     "data": {
      "application/vnd.jupyter.widget-view+json": {
       "model_id": "99cea4f02a1d407e8a5ea6bdecb2eb32",
       "version_major": 2,
       "version_minor": 0
      },
      "text/plain": [
       "  0%|          | 0/104 [00:00<?, ?it/s]"
      ]
     },
     "metadata": {},
     "output_type": "display_data"
    },
    {
     "data": {
      "application/vnd.jupyter.widget-view+json": {
       "model_id": "b9c2cb58ee214fb785820715b0191cc5",
       "version_major": 2,
       "version_minor": 0
      },
      "text/plain": [
       "  0%|          | 0/104 [00:00<?, ?it/s]"
      ]
     },
     "metadata": {},
     "output_type": "display_data"
    },
    {
     "data": {
      "application/vnd.jupyter.widget-view+json": {
       "model_id": "fb1401253d0e4475bb9db503cd188f0e",
       "version_major": 2,
       "version_minor": 0
      },
      "text/plain": [
       "  0%|          | 0/104 [00:00<?, ?it/s]"
      ]
     },
     "metadata": {},
     "output_type": "display_data"
    },
    {
     "data": {
      "application/vnd.jupyter.widget-view+json": {
       "model_id": "79cea592762540e794d7fdac20f60c67",
       "version_major": 2,
       "version_minor": 0
      },
      "text/plain": [
       "  0%|          | 0/104 [00:00<?, ?it/s]"
      ]
     },
     "metadata": {},
     "output_type": "display_data"
    },
    {
     "name": "stderr",
     "output_type": "stream",
     "text": [
      "Epoch[1/778]:   0%|          | 0/778 [00:00<?, ?it/s].85it/s]"
     ]
    },
    {
     "data": {
      "application/vnd.jupyter.widget-view+json": {
       "model_id": "f8b3becc15d8499a8142e209b391b59f",
       "version_major": 2,
       "version_minor": 0
      },
      "text/plain": [
       "  0%|          | 0/104 [00:00<?, ?it/s]"
      ]
     },
     "metadata": {},
     "output_type": "display_data"
    },
    {
     "name": "stderr",
     "output_type": "stream",
     "text": [
      "Epoch[7/778]:   1%|          | 7/778 [00:00<00:12, 64.01it/s]s]"
     ]
    },
    {
     "data": {
      "application/vnd.jupyter.widget-view+json": {
       "model_id": "36c2535c6e67441b8fd7099a46ba798d",
       "version_major": 2,
       "version_minor": 0
      },
      "text/plain": [
       "  0%|          | 0/104 [00:00<?, ?it/s]"
      ]
     },
     "metadata": {},
     "output_type": "display_data"
    },
    {
     "name": "stderr",
     "output_type": "stream",
     "text": [
      "Epoch[776/778]:  99%|█████████▉| 770/778 [00:14<00:00, 54.11it/s]"
     ]
    },
    {
     "data": {
      "application/vnd.jupyter.widget-view+json": {
       "model_id": "1dec19b551e74fdd8b0c56ad79263c72",
       "version_major": 2,
       "version_minor": 0
      },
      "text/plain": [
       "  0%|          | 0/104 [00:00<?, ?it/s]"
      ]
     },
     "metadata": {},
     "output_type": "display_data"
    },
    {
     "name": "stderr",
     "output_type": "stream",
     "text": [
      "Epoch[766/778]:  98%|█████████▊| 764/778 [00:13<00:00, 54.03it/s]"
     ]
    },
    {
     "data": {
      "application/vnd.jupyter.widget-view+json": {
       "model_id": "8b25720f7de14998b77e249dc0afa296",
       "version_major": 2,
       "version_minor": 0
      },
      "text/plain": [
       "  0%|          | 0/104 [00:00<?, ?it/s]"
      ]
     },
     "metadata": {},
     "output_type": "display_data"
    },
    {
     "data": {
      "application/vnd.jupyter.widget-view+json": {
       "model_id": "218acaabb7a94a0b9b2ead05e19149c9",
       "version_major": 2,
       "version_minor": 0
      },
      "text/plain": [
       "  0%|          | 0/104 [00:00<?, ?it/s]"
      ]
     },
     "metadata": {},
     "output_type": "display_data"
    },
    {
     "name": "stderr",
     "output_type": "stream",
     "text": [
      "Epoch[762/778]:  97%|█████████▋| 756/778 [00:14<00:00, 50.43it/s]"
     ]
    },
    {
     "data": {
      "application/vnd.jupyter.widget-view+json": {
       "model_id": "13889f201300460cb884bcb2ea0bb485",
       "version_major": 2,
       "version_minor": 0
      },
      "text/plain": [
       "  0%|          | 0/104 [00:00<?, ?it/s]"
      ]
     },
     "metadata": {},
     "output_type": "display_data"
    },
    {
     "name": "stderr",
     "output_type": "stream",
     "text": [
      "                                                                 \r"
     ]
    },
    {
     "data": {
      "application/vnd.jupyter.widget-view+json": {
       "model_id": "fc4a8b2ce7c643dabb5e2632c8156846",
       "version_major": 2,
       "version_minor": 0
      },
      "text/plain": [
       "  0%|          | 0/104 [00:00<?, ?it/s]"
      ]
     },
     "metadata": {},
     "output_type": "display_data"
    },
    {
     "name": "stderr",
     "output_type": "stream",
     "text": [
      "Epoch[766/778]:  98%|█████████▊| 762/778 [00:14<00:00, 50.35it/s]"
     ]
    },
    {
     "data": {
      "application/vnd.jupyter.widget-view+json": {
       "model_id": "b01c9f74ca564923a4c375c0f54f4094",
       "version_major": 2,
       "version_minor": 0
      },
      "text/plain": [
       "  0%|          | 0/104 [00:00<?, ?it/s]"
      ]
     },
     "metadata": {},
     "output_type": "display_data"
    },
    {
     "name": "stderr",
     "output_type": "stream",
     "text": [
      "Epoch[767/778]:  98%|█████████▊| 762/778 [00:14<00:00, 50.35it/s]"
     ]
    },
    {
     "data": {
      "application/vnd.jupyter.widget-view+json": {
       "model_id": "61f92630ee354a58a3008422713a7d63",
       "version_major": 2,
       "version_minor": 0
      },
      "text/plain": [
       "  0%|          | 0/104 [00:00<?, ?it/s]"
      ]
     },
     "metadata": {},
     "output_type": "display_data"
    },
    {
     "name": "stderr",
     "output_type": "stream",
     "text": [
      "Epoch[777/778]:  99%|█████████▉| 774/778 [00:14<00:00, 49.62it/s]"
     ]
    },
    {
     "data": {
      "application/vnd.jupyter.widget-view+json": {
       "model_id": "f3a563999aed4911a1a80df32a8e70fb",
       "version_major": 2,
       "version_minor": 0
      },
      "text/plain": [
       "  0%|          | 0/104 [00:00<?, ?it/s]"
      ]
     },
     "metadata": {},
     "output_type": "display_data"
    },
    {
     "name": "stderr",
     "output_type": "stream",
     "text": [
      "                                                                 \r"
     ]
    },
    {
     "data": {
      "application/vnd.jupyter.widget-view+json": {
       "model_id": "324038dae93a47c9849f00588496538c",
       "version_major": 2,
       "version_minor": 0
      },
      "text/plain": [
       "  0%|          | 0/104 [00:00<?, ?it/s]"
      ]
     },
     "metadata": {},
     "output_type": "display_data"
    },
    {
     "data": {
      "application/vnd.jupyter.widget-view+json": {
       "model_id": "7218b4e44b92494a86a61ddcf199dcbc",
       "version_major": 2,
       "version_minor": 0
      },
      "text/plain": [
       "  0%|          | 0/104 [00:00<?, ?it/s]"
      ]
     },
     "metadata": {},
     "output_type": "display_data"
    },
    {
     "name": "stderr",
     "output_type": "stream",
     "text": [
      "Epoch[1/778]:   0%|          | 0/778 [00:00<?, ?it/s]"
     ]
    },
    {
     "data": {
      "application/vnd.jupyter.widget-view+json": {
       "model_id": "ef98618f746541178439f6555c7c3050",
       "version_major": 2,
       "version_minor": 0
      },
      "text/plain": [
       "  0%|          | 0/104 [00:00<?, ?it/s]"
      ]
     },
     "metadata": {},
     "output_type": "display_data"
    },
    {
     "data": {
      "application/vnd.jupyter.widget-view+json": {
       "model_id": "a9fd6d0c25e945829334246e92124b5c",
       "version_major": 2,
       "version_minor": 0
      },
      "text/plain": [
       "  0%|          | 0/104 [00:00<?, ?it/s]"
      ]
     },
     "metadata": {},
     "output_type": "display_data"
    },
    {
     "name": "stderr",
     "output_type": "stream",
     "text": [
      "Epoch[4/778]:   0%|          | 0/778 [00:00<?, ?it/s]"
     ]
    },
    {
     "data": {
      "application/vnd.jupyter.widget-view+json": {
       "model_id": "bf36a3c94b0b479eae39bcb572ad40a9",
       "version_major": 2,
       "version_minor": 0
      },
      "text/plain": [
       "  0%|          | 0/104 [00:00<?, ?it/s]"
      ]
     },
     "metadata": {},
     "output_type": "display_data"
    },
    {
     "data": {
      "application/vnd.jupyter.widget-view+json": {
       "model_id": "afb85ef1bf0c4bb69257243cebf6d41b",
       "version_major": 2,
       "version_minor": 0
      },
      "text/plain": [
       "  0%|          | 0/104 [00:00<?, ?it/s]"
      ]
     },
     "metadata": {},
     "output_type": "display_data"
    },
    {
     "name": "stderr",
     "output_type": "stream",
     "text": [
      "Epoch[15/778]:   2%|▏         | 14/778 [00:00<00:12, 61.84it/s]"
     ]
    },
    {
     "data": {
      "application/vnd.jupyter.widget-view+json": {
       "model_id": "f4e72706d8a8452da29a9d685d17a4ec",
       "version_major": 2,
       "version_minor": 0
      },
      "text/plain": [
       "  0%|          | 0/104 [00:00<?, ?it/s]"
      ]
     },
     "metadata": {},
     "output_type": "display_data"
    },
    {
     "name": "stderr",
     "output_type": "stream",
     "text": [
      "Epoch[15/778]:   2%|▏         | 12/778 [00:00<00:13, 54.77it/s]"
     ]
    },
    {
     "data": {
      "application/vnd.jupyter.widget-view+json": {
       "model_id": "e9ca4600bf59419ab87f248404db401e",
       "version_major": 2,
       "version_minor": 0
      },
      "text/plain": [
       "  0%|          | 0/104 [00:00<?, ?it/s]"
      ]
     },
     "metadata": {},
     "output_type": "display_data"
    },
    {
     "name": "stderr",
     "output_type": "stream",
     "text": [
      "Epoch[733/778]:  93%|█████████▎| 727/778 [00:13<00:00, 53.10it/s]"
     ]
    },
    {
     "data": {
      "application/vnd.jupyter.widget-view+json": {
       "model_id": "7dd961bef490487c8c469181cc720f39",
       "version_major": 2,
       "version_minor": 0
      },
      "text/plain": [
       "  0%|          | 0/104 [00:00<?, ?it/s]"
      ]
     },
     "metadata": {},
     "output_type": "display_data"
    },
    {
     "name": "stderr",
     "output_type": "stream",
     "text": [
      "Epoch[765/778]:  98%|█████████▊| 762/778 [00:13<00:00, 55.68it/s]"
     ]
    },
    {
     "data": {
      "application/vnd.jupyter.widget-view+json": {
       "model_id": "9844f2c1ce3742b294cfc8716f9ef929",
       "version_major": 2,
       "version_minor": 0
      },
      "text/plain": [
       "  0%|          | 0/104 [00:00<?, ?it/s]"
      ]
     },
     "metadata": {},
     "output_type": "display_data"
    },
    {
     "name": "stderr",
     "output_type": "stream",
     "text": [
      "Epoch[748/778]:  96%|█████████▌| 746/778 [00:13<00:00, 54.33it/s]"
     ]
    },
    {
     "data": {
      "application/vnd.jupyter.widget-view+json": {
       "model_id": "66a5fdc424684b1293e930268c76bf0b",
       "version_major": 2,
       "version_minor": 0
      },
      "text/plain": [
       "  0%|          | 0/104 [00:00<?, ?it/s]"
      ]
     },
     "metadata": {},
     "output_type": "display_data"
    },
    {
     "name": "stderr",
     "output_type": "stream",
     "text": [
      "Epoch[760/778]:  97%|█████████▋| 754/778 [00:14<00:00, 53.09it/s]"
     ]
    },
    {
     "data": {
      "application/vnd.jupyter.widget-view+json": {
       "model_id": "f5c435b3766347538468c50d9a35070e",
       "version_major": 2,
       "version_minor": 0
      },
      "text/plain": [
       "  0%|          | 0/104 [00:00<?, ?it/s]"
      ]
     },
     "metadata": {},
     "output_type": "display_data"
    },
    {
     "name": "stderr",
     "output_type": "stream",
     "text": [
      "Epoch[762/778]:  97%|█████████▋| 758/778 [00:13<00:00, 52.97it/s]"
     ]
    },
    {
     "data": {
      "application/vnd.jupyter.widget-view+json": {
       "model_id": "68b86fd4ac3449cb9a53cc69f999cb4b",
       "version_major": 2,
       "version_minor": 0
      },
      "text/plain": [
       "  0%|          | 0/104 [00:00<?, ?it/s]"
      ]
     },
     "metadata": {},
     "output_type": "display_data"
    },
    {
     "name": "stderr",
     "output_type": "stream",
     "text": [
      "Epoch[765/778]:  98%|█████████▊| 760/778 [00:14<00:00, 54.78it/s]"
     ]
    },
    {
     "data": {
      "application/vnd.jupyter.widget-view+json": {
       "model_id": "71682e483e2846a39dbad0657296b050",
       "version_major": 2,
       "version_minor": 0
      },
      "text/plain": [
       "  0%|          | 0/104 [00:00<?, ?it/s]"
      ]
     },
     "metadata": {},
     "output_type": "display_data"
    },
    {
     "name": "stderr",
     "output_type": "stream",
     "text": [
      "Epoch[765/778]:  98%|█████████▊| 764/778 [00:13<00:00, 51.91it/s]"
     ]
    },
    {
     "data": {
      "application/vnd.jupyter.widget-view+json": {
       "model_id": "09fbfe84853c40429e88474fd130086f",
       "version_major": 2,
       "version_minor": 0
      },
      "text/plain": [
       "  0%|          | 0/104 [00:00<?, ?it/s]"
      ]
     },
     "metadata": {},
     "output_type": "display_data"
    },
    {
     "name": "stderr",
     "output_type": "stream",
     "text": [
      "Epoch[770/778]:  99%|█████████▉| 770/778 [00:14<00:00, 53.42it/s]"
     ]
    },
    {
     "data": {
      "application/vnd.jupyter.widget-view+json": {
       "model_id": "de8f5813526e4ba38790d61a0ddce980",
       "version_major": 2,
       "version_minor": 0
      },
      "text/plain": [
       "  0%|          | 0/104 [00:00<?, ?it/s]"
      ]
     },
     "metadata": {},
     "output_type": "display_data"
    },
    {
     "name": "stderr",
     "output_type": "stream",
     "text": [
      "                                                                 \r"
     ]
    },
    {
     "data": {
      "application/vnd.jupyter.widget-view+json": {
       "model_id": "0b04903acff84fe3b19360a5c9f9d7b3",
       "version_major": 2,
       "version_minor": 0
      },
      "text/plain": [
       "  0%|          | 0/104 [00:00<?, ?it/s]"
      ]
     },
     "metadata": {},
     "output_type": "display_data"
    },
    {
     "data": {
      "application/vnd.jupyter.widget-view+json": {
       "model_id": "2209406426c8453cb6c4db91485f8cab",
       "version_major": 2,
       "version_minor": 0
      },
      "text/plain": [
       "  0%|          | 0/104 [00:00<?, ?it/s]"
      ]
     },
     "metadata": {},
     "output_type": "display_data"
    },
    {
     "data": {
      "application/vnd.jupyter.widget-view+json": {
       "model_id": "84e085dd00c9451892bc877e284312eb",
       "version_major": 2,
       "version_minor": 0
      },
      "text/plain": [
       "  0%|          | 0/104 [00:00<?, ?it/s]"
      ]
     },
     "metadata": {},
     "output_type": "display_data"
    },
    {
     "name": "stderr",
     "output_type": "stream",
     "text": [
      "Epoch[1/778]:   0%|          | 0/778 [00:00<?, ?it/s]"
     ]
    },
    {
     "data": {
      "application/vnd.jupyter.widget-view+json": {
       "model_id": "cbefbf36a3474d30a49cf45680752ee0",
       "version_major": 2,
       "version_minor": 0
      },
      "text/plain": [
       "  0%|          | 0/104 [00:00<?, ?it/s]"
      ]
     },
     "metadata": {},
     "output_type": "display_data"
    },
    {
     "data": {
      "application/vnd.jupyter.widget-view+json": {
       "model_id": "b9e9813d1bb04c3e919f5d2f341109c8",
       "version_major": 2,
       "version_minor": 0
      },
      "text/plain": [
       "  0%|          | 0/104 [00:00<?, ?it/s]"
      ]
     },
     "metadata": {},
     "output_type": "display_data"
    },
    {
     "name": "stderr",
     "output_type": "stream",
     "text": [
      "Epoch[6/778]:   1%|          | 6/778 [00:00<00:14, 53.32it/s]"
     ]
    },
    {
     "data": {
      "application/vnd.jupyter.widget-view+json": {
       "model_id": "e808e60ee761408f804d95ef30160616",
       "version_major": 2,
       "version_minor": 0
      },
      "text/plain": [
       "  0%|          | 0/104 [00:00<?, ?it/s]"
      ]
     },
     "metadata": {},
     "output_type": "display_data"
    },
    {
     "name": "stderr",
     "output_type": "stream",
     "text": [
      "Epoch[3/778]:   0%|          | 0/778 [00:00<?, ?it/s]50.64it/s]"
     ]
    },
    {
     "data": {
      "application/vnd.jupyter.widget-view+json": {
       "model_id": "43db2e1ce4a34cdd88043e722ce2cd13",
       "version_major": 2,
       "version_minor": 0
      },
      "text/plain": [
       "  0%|          | 0/104 [00:00<?, ?it/s]"
      ]
     },
     "metadata": {},
     "output_type": "display_data"
    },
    {
     "name": "stderr",
     "output_type": "stream",
     "text": [
      "Epoch[17/778]:   2%|▏         | 12/778 [00:00<00:16, 47.38it/s]"
     ]
    },
    {
     "data": {
      "application/vnd.jupyter.widget-view+json": {
       "model_id": "60c7813fe48c46e39a2c280fa87c51e9",
       "version_major": 2,
       "version_minor": 0
      },
      "text/plain": [
       "  0%|          | 0/104 [00:00<?, ?it/s]"
      ]
     },
     "metadata": {},
     "output_type": "display_data"
    },
    {
     "name": "stderr",
     "output_type": "stream",
     "text": [
      "Epoch[759/778]:  98%|█████████▊| 759/778 [00:13<00:00, 50.16it/s]"
     ]
    },
    {
     "data": {
      "application/vnd.jupyter.widget-view+json": {
       "model_id": "05dfcfd1d98445afaab09a9ffefe85a8",
       "version_major": 2,
       "version_minor": 0
      },
      "text/plain": [
       "  0%|          | 0/104 [00:00<?, ?it/s]"
      ]
     },
     "metadata": {},
     "output_type": "display_data"
    },
    {
     "name": "stderr",
     "output_type": "stream",
     "text": [
      "Epoch[760/778]:  97%|█████████▋| 757/778 [00:13<00:00, 52.10it/s]"
     ]
    },
    {
     "data": {
      "application/vnd.jupyter.widget-view+json": {
       "model_id": "47817568035a4b2394045de86643e9d8",
       "version_major": 2,
       "version_minor": 0
      },
      "text/plain": [
       "  0%|          | 0/104 [00:00<?, ?it/s]"
      ]
     },
     "metadata": {},
     "output_type": "display_data"
    },
    {
     "name": "stderr",
     "output_type": "stream",
     "text": [
      "Epoch[764/778]:  98%|█████████▊| 759/778 [00:14<00:00, 50.16it/s]"
     ]
    },
    {
     "data": {
      "application/vnd.jupyter.widget-view+json": {
       "model_id": "56cd62e0fb594fc58945b5ae5a625479",
       "version_major": 2,
       "version_minor": 0
      },
      "text/plain": [
       "  0%|          | 0/104 [00:00<?, ?it/s]"
      ]
     },
     "metadata": {},
     "output_type": "display_data"
    },
    {
     "name": "stderr",
     "output_type": "stream",
     "text": [
      "Epoch[757/778]:  97%|█████████▋| 756/778 [00:13<00:00, 54.40it/s]"
     ]
    },
    {
     "data": {
      "application/vnd.jupyter.widget-view+json": {
       "model_id": "1cebce401eb34b6590146b01acdb1a0b",
       "version_major": 2,
       "version_minor": 0
      },
      "text/plain": [
       "  0%|          | 0/104 [00:00<?, ?it/s]"
      ]
     },
     "metadata": {},
     "output_type": "display_data"
    },
    {
     "name": "stderr",
     "output_type": "stream",
     "text": [
      "Epoch[768/778]:  98%|█████████▊| 762/778 [00:13<00:00, 53.93it/s]"
     ]
    },
    {
     "data": {
      "application/vnd.jupyter.widget-view+json": {
       "model_id": "3809e29c5aae4f9a84138db3a000e1f6",
       "version_major": 2,
       "version_minor": 0
      },
      "text/plain": [
       "  0%|          | 0/104 [00:00<?, ?it/s]"
      ]
     },
     "metadata": {},
     "output_type": "display_data"
    },
    {
     "name": "stderr",
     "output_type": "stream",
     "text": [
      "Epoch[769/778]:  99%|█████████▊| 768/778 [00:13<00:00, 55.47it/s]"
     ]
    },
    {
     "data": {
      "application/vnd.jupyter.widget-view+json": {
       "model_id": "ddddfd458a994a4e9f92c77b55774051",
       "version_major": 2,
       "version_minor": 0
      },
      "text/plain": [
       "  0%|          | 0/104 [00:00<?, ?it/s]"
      ]
     },
     "metadata": {},
     "output_type": "display_data"
    },
    {
     "name": "stderr",
     "output_type": "stream",
     "text": [
      "Epoch[770/778]:  99%|█████████▊| 768/778 [00:14<00:00, 55.47it/s]"
     ]
    },
    {
     "data": {
      "application/vnd.jupyter.widget-view+json": {
       "model_id": "5f77d52fb3c349909fc3a44496404f49",
       "version_major": 2,
       "version_minor": 0
      },
      "text/plain": [
       "  0%|          | 0/104 [00:00<?, ?it/s]"
      ]
     },
     "metadata": {},
     "output_type": "display_data"
    },
    {
     "data": {
      "application/vnd.jupyter.widget-view+json": {
       "model_id": "3488f59cca1e47e2a676dcf717836834",
       "version_major": 2,
       "version_minor": 0
      },
      "text/plain": [
       "  0%|          | 0/104 [00:00<?, ?it/s]"
      ]
     },
     "metadata": {},
     "output_type": "display_data"
    },
    {
     "name": "stderr",
     "output_type": "stream",
     "text": [
      "Epoch[771/778]:  99%|█████████▊| 768/778 [00:14<00:00, 55.47it/s]"
     ]
    },
    {
     "data": {
      "application/vnd.jupyter.widget-view+json": {
       "model_id": "fc0893adb5f14f588342827430e1dbda",
       "version_major": 2,
       "version_minor": 0
      },
      "text/plain": [
       "  0%|          | 0/104 [00:00<?, ?it/s]"
      ]
     },
     "metadata": {},
     "output_type": "display_data"
    },
    {
     "name": "stderr",
     "output_type": "stream",
     "text": [
      "Epoch[776/778]:  99%|█████████▉| 774/778 [00:14<00:00, 54.57it/s]"
     ]
    },
    {
     "data": {
      "application/vnd.jupyter.widget-view+json": {
       "model_id": "4504bdf70e224f5f8ffd65afad3eab3a",
       "version_major": 2,
       "version_minor": 0
      },
      "text/plain": [
       "  0%|          | 0/104 [00:00<?, ?it/s]"
      ]
     },
     "metadata": {},
     "output_type": "display_data"
    },
    {
     "name": "stderr",
     "output_type": "stream",
     "text": [
      "                                                                 \r"
     ]
    },
    {
     "data": {
      "application/vnd.jupyter.widget-view+json": {
       "model_id": "a5f388780f924867bdf41854a2555e2b",
       "version_major": 2,
       "version_minor": 0
      },
      "text/plain": [
       "  0%|          | 0/104 [00:00<?, ?it/s]"
      ]
     },
     "metadata": {},
     "output_type": "display_data"
    },
    {
     "data": {
      "application/vnd.jupyter.widget-view+json": {
       "model_id": "0752fbaccd09405c84f973e005bf60ed",
       "version_major": 2,
       "version_minor": 0
      },
      "text/plain": [
       "  0%|          | 0/104 [00:00<?, ?it/s]"
      ]
     },
     "metadata": {},
     "output_type": "display_data"
    },
    {
     "name": "stderr",
     "output_type": "stream",
     "text": [
      "Epoch[6/778]:   1%|          | 6/778 [00:00<00:12, 59.47it/s]]"
     ]
    },
    {
     "data": {
      "application/vnd.jupyter.widget-view+json": {
       "model_id": "21b78fe507f44c47b08cb73dbce9c836",
       "version_major": 2,
       "version_minor": 0
      },
      "text/plain": [
       "  0%|          | 0/104 [00:00<?, ?it/s]"
      ]
     },
     "metadata": {},
     "output_type": "display_data"
    },
    {
     "name": "stderr",
     "output_type": "stream",
     "text": [
      "Epoch[12/778]:   1%|          | 7/778 [00:00<00:11, 68.15it/s]"
     ]
    },
    {
     "data": {
      "application/vnd.jupyter.widget-view+json": {
       "model_id": "d25692e8620c4055bb82d5e1aa2be6ec",
       "version_major": 2,
       "version_minor": 0
      },
      "text/plain": [
       "  0%|          | 0/104 [00:00<?, ?it/s]"
      ]
     },
     "metadata": {},
     "output_type": "display_data"
    },
    {
     "name": "stderr",
     "output_type": "stream",
     "text": [
      "Epoch[10/778]:   1%|          | 6/778 [00:00<00:12, 59.47it/s]"
     ]
    },
    {
     "data": {
      "application/vnd.jupyter.widget-view+json": {
       "model_id": "bcdc75f3765c43aabccbe5a7002e47a7",
       "version_major": 2,
       "version_minor": 0
      },
      "text/plain": [
       "  0%|          | 0/104 [00:00<?, ?it/s]"
      ]
     },
     "metadata": {},
     "output_type": "display_data"
    },
    {
     "name": "stderr",
     "output_type": "stream",
     "text": [
      "Epoch[29/778]:   3%|▎         | 25/778 [00:00<00:13, 56.10it/s]"
     ]
    },
    {
     "data": {
      "application/vnd.jupyter.widget-view+json": {
       "model_id": "ea831dd512fe42919dcf1c0d960f8bfa",
       "version_major": 2,
       "version_minor": 0
      },
      "text/plain": [
       "  0%|          | 0/104 [00:00<?, ?it/s]"
      ]
     },
     "metadata": {},
     "output_type": "display_data"
    },
    {
     "name": "stderr",
     "output_type": "stream",
     "text": [
      "Epoch[775/778]:  99%|█████████▉| 771/778 [00:14<00:00, 57.32it/s]\r"
     ]
    },
    {
     "data": {
      "application/vnd.jupyter.widget-view+json": {
       "model_id": "00e176524b504bf59761637d621cfccb",
       "version_major": 2,
       "version_minor": 0
      },
      "text/plain": [
       "  0%|          | 0/104 [00:00<?, ?it/s]"
      ]
     },
     "metadata": {},
     "output_type": "display_data"
    },
    {
     "name": "stderr",
     "output_type": "stream",
     "text": [
      "Epoch[769/778]:  99%|█████████▊| 767/778 [00:14<00:00, 54.20it/s]"
     ]
    },
    {
     "data": {
      "application/vnd.jupyter.widget-view+json": {
       "model_id": "9152f2773c6045e7a896e9bb71af907a",
       "version_major": 2,
       "version_minor": 0
      },
      "text/plain": [
       "  0%|          | 0/104 [00:00<?, ?it/s]"
      ]
     },
     "metadata": {},
     "output_type": "display_data"
    },
    {
     "name": "stderr",
     "output_type": "stream",
     "text": [
      "Epoch[756/778]:  96%|█████████▋| 750/778 [00:13<00:00, 53.92it/s]"
     ]
    },
    {
     "data": {
      "application/vnd.jupyter.widget-view+json": {
       "model_id": "a603e6b932a34ed999fef0822719a353",
       "version_major": 2,
       "version_minor": 0
      },
      "text/plain": [
       "  0%|          | 0/104 [00:00<?, ?it/s]"
      ]
     },
     "metadata": {},
     "output_type": "display_data"
    },
    {
     "name": "stderr",
     "output_type": "stream",
     "text": [
      "Epoch[774/778]:  99%|█████████▉| 773/778 [00:14<00:00, 49.34it/s]"
     ]
    },
    {
     "data": {
      "application/vnd.jupyter.widget-view+json": {
       "model_id": "bedb16409a414ddfacac814700a928b7",
       "version_major": 2,
       "version_minor": 0
      },
      "text/plain": [
       "  0%|          | 0/104 [00:00<?, ?it/s]"
      ]
     },
     "metadata": {},
     "output_type": "display_data"
    },
    {
     "name": "stderr",
     "output_type": "stream",
     "text": [
      "Epoch[772/778]:  99%|█████████▊| 768/778 [00:14<00:00, 51.14it/s]"
     ]
    },
    {
     "data": {
      "application/vnd.jupyter.widget-view+json": {
       "model_id": "d532dc2f9d3b45fda6a3d43c4364e4e0",
       "version_major": 2,
       "version_minor": 0
      },
      "text/plain": [
       "  0%|          | 0/104 [00:00<?, ?it/s]"
      ]
     },
     "metadata": {},
     "output_type": "display_data"
    },
    {
     "name": "stderr",
     "output_type": "stream",
     "text": [
      "Epoch[770/778]:  99%|█████████▉| 770/778 [00:13<00:00, 54.51it/s]"
     ]
    },
    {
     "data": {
      "application/vnd.jupyter.widget-view+json": {
       "model_id": "12aa81c92ada4985a5cc71e1023ac507",
       "version_major": 2,
       "version_minor": 0
      },
      "text/plain": [
       "  0%|          | 0/104 [00:00<?, ?it/s]"
      ]
     },
     "metadata": {},
     "output_type": "display_data"
    },
    {
     "name": "stderr",
     "output_type": "stream",
     "text": [
      "Epoch[775/778]:  99%|█████████▉| 770/778 [00:13<00:00, 54.51it/s]"
     ]
    },
    {
     "data": {
      "application/vnd.jupyter.widget-view+json": {
       "model_id": "3784954492b34acbba26bfde8fd7f67d",
       "version_major": 2,
       "version_minor": 0
      },
      "text/plain": [
       "  0%|          | 0/104 [00:00<?, ?it/s]"
      ]
     },
     "metadata": {},
     "output_type": "display_data"
    },
    {
     "name": "stderr",
     "output_type": "stream",
     "text": [
      "Epoch[778/778]: 100%|█████████▉| 776/778 [00:14<00:00, 52.64it/s]"
     ]
    },
    {
     "data": {
      "application/vnd.jupyter.widget-view+json": {
       "model_id": "6381f61c04774c2aa79104b0d756cbd4",
       "version_major": 2,
       "version_minor": 0
      },
      "text/plain": [
       "  0%|          | 0/104 [00:00<?, ?it/s]"
      ]
     },
     "metadata": {},
     "output_type": "display_data"
    },
    {
     "name": "stderr",
     "output_type": "stream",
     "text": [
      "                                                                 \r"
     ]
    },
    {
     "data": {
      "application/vnd.jupyter.widget-view+json": {
       "model_id": "7625148ebc034e5093a61485c11228b3",
       "version_major": 2,
       "version_minor": 0
      },
      "text/plain": [
       "  0%|          | 0/104 [00:00<?, ?it/s]"
      ]
     },
     "metadata": {},
     "output_type": "display_data"
    },
    {
     "data": {
      "application/vnd.jupyter.widget-view+json": {
       "model_id": "f39821c77a114e3d87f15ae3f77df9f8",
       "version_major": 2,
       "version_minor": 0
      },
      "text/plain": [
       "  0%|          | 0/104 [00:00<?, ?it/s]"
      ]
     },
     "metadata": {},
     "output_type": "display_data"
    },
    {
     "name": "stderr",
     "output_type": "stream",
     "text": [
      "Epoch[6/778]:   1%|          | 5/778 [00:00<00:15, 48.89it/s]"
     ]
    },
    {
     "data": {
      "application/vnd.jupyter.widget-view+json": {
       "model_id": "85c2887e0c774943867d3704095aa094",
       "version_major": 2,
       "version_minor": 0
      },
      "text/plain": [
       "  0%|          | 0/104 [00:00<?, ?it/s]"
      ]
     },
     "metadata": {},
     "output_type": "display_data"
    },
    {
     "name": "stderr",
     "output_type": "stream",
     "text": [
      "Epoch[9/778]:   1%|          | 5/778 [00:00<00:15, 48.89it/s]"
     ]
    },
    {
     "data": {
      "application/vnd.jupyter.widget-view+json": {
       "model_id": "d62127c5fe484f1982e30505a3a89af5",
       "version_major": 2,
       "version_minor": 0
      },
      "text/plain": [
       "  0%|          | 0/104 [00:00<?, ?it/s]"
      ]
     },
     "metadata": {},
     "output_type": "display_data"
    },
    {
     "name": "stderr",
     "output_type": "stream",
     "text": [
      "  0%|          | 0/778 [00:00<?, ?it/s][00:00<00:14, 52.19it/s]"
     ]
    },
    {
     "data": {
      "application/vnd.jupyter.widget-view+json": {
       "model_id": "7c84ebd337f94a6fae922fcd47b83a22",
       "version_major": 2,
       "version_minor": 0
      },
      "text/plain": [
       "  0%|          | 0/104 [00:00<?, ?it/s]"
      ]
     },
     "metadata": {},
     "output_type": "display_data"
    },
    {
     "name": "stderr",
     "output_type": "stream",
     "text": [
      "Epoch[16/778]:   2%|▏         | 12/778 [00:00<00:14, 53.68it/s]"
     ]
    },
    {
     "data": {
      "application/vnd.jupyter.widget-view+json": {
       "model_id": "fb501784d70244d5a9533ddaf5276965",
       "version_major": 2,
       "version_minor": 0
      },
      "text/plain": [
       "  0%|          | 0/104 [00:00<?, ?it/s]"
      ]
     },
     "metadata": {},
     "output_type": "display_data"
    },
    {
     "data": {
      "application/vnd.jupyter.widget-view+json": {
       "model_id": "1025de73d9424087a69523a55e54e561",
       "version_major": 2,
       "version_minor": 0
      },
      "text/plain": [
       "  0%|          | 0/104 [00:00<?, ?it/s]"
      ]
     },
     "metadata": {},
     "output_type": "display_data"
    },
    {
     "name": "stderr",
     "output_type": "stream",
     "text": [
      "Epoch[18/778]:   2%|▏         | 12/778 [00:00<00:14, 54.65it/s]"
     ]
    },
    {
     "data": {
      "application/vnd.jupyter.widget-view+json": {
       "model_id": "5c2236fef3444c95ae070af0f6cb62ab",
       "version_major": 2,
       "version_minor": 0
      },
      "text/plain": [
       "  0%|          | 0/104 [00:00<?, ?it/s]"
      ]
     },
     "metadata": {},
     "output_type": "display_data"
    },
    {
     "name": "stderr",
     "output_type": "stream",
     "text": [
      "Epoch[755/778]:  97%|█████████▋| 754/778 [00:13<00:00, 51.59it/s]IOPub message rate exceeded.\n",
      "The Jupyter server will temporarily stop sending output\n",
      "to the client in order to avoid crashing it.\n",
      "To change this limit, set the config variable\n",
      "`--ServerApp.iopub_msg_rate_limit`.\n",
      "\n",
      "Current values:\n",
      "ServerApp.iopub_msg_rate_limit=1000.0 (msgs/sec)\n",
      "ServerApp.rate_limit_window=3.0 (secs)\n",
      "\n",
      "Epoch[467/778]:  60%|█████▉    | 465/778 [00:08<00:05, 55.89it/s]IOPub message rate exceeded.\n",
      "The Jupyter server will temporarily stop sending output\n",
      "to the client in order to avoid crashing it.\n",
      "To change this limit, set the config variable\n",
      "`--ServerApp.iopub_msg_rate_limit`.\n",
      "\n",
      "Current values:\n",
      "ServerApp.iopub_msg_rate_limit=1000.0 (msgs/sec)\n",
      "ServerApp.rate_limit_window=3.0 (secs)\n",
      "\n",
      "Epoch[35/778]:   4%|▍         | 30/778 [00:00<00:14, 52.82it/s]s]"
     ]
    },
    {
     "data": {
      "application/vnd.jupyter.widget-view+json": {
       "model_id": "256005121bad4c97982e910513bc3225",
       "version_major": 2,
       "version_minor": 0
      },
      "text/plain": [
       "  0%|          | 0/104 [00:00<?, ?it/s]"
      ]
     },
     "metadata": {},
     "output_type": "display_data"
    },
    {
     "name": "stderr",
     "output_type": "stream",
     "text": [
      "Epoch[747/778]:  95%|█████████▌| 742/778 [00:13<00:00, 51.44it/s]"
     ]
    },
    {
     "data": {
      "application/vnd.jupyter.widget-view+json": {
       "model_id": "cd227440a5b345d19bc9d51a9ccb088d",
       "version_major": 2,
       "version_minor": 0
      },
      "text/plain": [
       "  0%|          | 0/104 [00:00<?, ?it/s]"
      ]
     },
     "metadata": {},
     "output_type": "display_data"
    },
    {
     "name": "stderr",
     "output_type": "stream",
     "text": [
      "Epoch[54/778]:   6%|▌         | 48/778 [00:01<00:13, 52.86it/s]s]"
     ]
    },
    {
     "data": {
      "application/vnd.jupyter.widget-view+json": {
       "model_id": "35be6f76e0a14a74b35518053cba4b47",
       "version_major": 2,
       "version_minor": 0
      },
      "text/plain": [
       "  0%|          | 0/104 [00:00<?, ?it/s]"
      ]
     },
     "metadata": {},
     "output_type": "display_data"
    },
    {
     "name": "stderr",
     "output_type": "stream",
     "text": [
      "Epoch[41/778]:   4%|▍         | 35/778 [00:00<00:14, 50.36it/s]"
     ]
    },
    {
     "data": {
      "application/vnd.jupyter.widget-view+json": {
       "model_id": "d7ef68f4bb454d65a9662ede97e8d0b5",
       "version_major": 2,
       "version_minor": 0
      },
      "text/plain": [
       "  0%|          | 0/104 [00:00<?, ?it/s]"
      ]
     },
     "metadata": {},
     "output_type": "display_data"
    },
    {
     "name": "stderr",
     "output_type": "stream",
     "text": [
      "Epoch[60/778]:   7%|▋         | 54/778 [00:01<00:14, 48.28it/s]s]"
     ]
    },
    {
     "data": {
      "application/vnd.jupyter.widget-view+json": {
       "model_id": "6766bb6d9c5a4fbe9c09d369504479dc",
       "version_major": 2,
       "version_minor": 0
      },
      "text/plain": [
       "  0%|          | 0/104 [00:00<?, ?it/s]"
      ]
     },
     "metadata": {},
     "output_type": "display_data"
    },
    {
     "name": "stderr",
     "output_type": "stream",
     "text": [
      "Epoch[28/778]:   3%|▎         | 22/778 [00:00<00:16, 47.08it/s]  "
     ]
    },
    {
     "data": {
      "application/vnd.jupyter.widget-view+json": {
       "model_id": "a6726b913ecf4b3fae4ffd242262445d",
       "version_major": 2,
       "version_minor": 0
      },
      "text/plain": [
       "  0%|          | 0/104 [00:00<?, ?it/s]"
      ]
     },
     "metadata": {},
     "output_type": "display_data"
    },
    {
     "name": "stderr",
     "output_type": "stream",
     "text": [
      "Epoch[29/778]:   4%|▎         | 29/778 [00:00<00:14, 51.96it/s]"
     ]
    },
    {
     "data": {
      "application/vnd.jupyter.widget-view+json": {
       "model_id": "3f469c368a2e475996c9ae0914fbe1a0",
       "version_major": 2,
       "version_minor": 0
      },
      "text/plain": [
       "  0%|          | 0/104 [00:00<?, ?it/s]"
      ]
     },
     "metadata": {},
     "output_type": "display_data"
    },
    {
     "name": "stderr",
     "output_type": "stream",
     "text": [
      "Epoch[27/778]:   3%|▎         | 26/778 [00:00<00:13, 55.39it/s]"
     ]
    },
    {
     "data": {
      "application/vnd.jupyter.widget-view+json": {
       "model_id": "7b13e001be8d4d31bac97d07461a7068",
       "version_major": 2,
       "version_minor": 0
      },
      "text/plain": [
       "  0%|          | 0/104 [00:00<?, ?it/s]"
      ]
     },
     "metadata": {},
     "output_type": "display_data"
    },
    {
     "name": "stderr",
     "output_type": "stream",
     "text": [
      "Epoch[122/778]:  15%|█▌        | 118/778 [00:02<00:12, 50.84it/s]"
     ]
    },
    {
     "data": {
      "application/vnd.jupyter.widget-view+json": {
       "model_id": "4c031902436e4ebe8194858cfc140ee0",
       "version_major": 2,
       "version_minor": 0
      },
      "text/plain": [
       "  0%|          | 0/104 [00:00<?, ?it/s]"
      ]
     },
     "metadata": {},
     "output_type": "display_data"
    },
    {
     "name": "stderr",
     "output_type": "stream",
     "text": [
      "Epoch[264/778]:  34%|███▎      | 261/778 [00:04<00:09, 56.74it/s]IOPub message rate exceeded.\n",
      "The Jupyter server will temporarily stop sending output\n",
      "to the client in order to avoid crashing it.\n",
      "To change this limit, set the config variable\n",
      "`--ServerApp.iopub_msg_rate_limit`.\n",
      "\n",
      "Current values:\n",
      "ServerApp.iopub_msg_rate_limit=1000.0 (msgs/sec)\n",
      "ServerApp.rate_limit_window=3.0 (secs)\n",
      "\n",
      "Epoch[738/778]:  94%|█████████▍| 732/778 [00:13<00:00, 51.76it/s]"
     ]
    },
    {
     "data": {
      "application/vnd.jupyter.widget-view+json": {
       "model_id": "e83f1356a1924b7891f58bb5c5b22548",
       "version_major": 2,
       "version_minor": 0
      },
      "text/plain": [
       "  0%|          | 0/104 [00:00<?, ?it/s]"
      ]
     },
     "metadata": {},
     "output_type": "display_data"
    },
    {
     "name": "stderr",
     "output_type": "stream",
     "text": [
      "Epoch[682/778]:  87%|████████▋ | 677/778 [00:12<00:01, 59.54it/s]"
     ]
    },
    {
     "data": {
      "application/vnd.jupyter.widget-view+json": {
       "model_id": "07649f3490af4fe7b23d4bf8c105f1d1",
       "version_major": 2,
       "version_minor": 0
      },
      "text/plain": [
       "  0%|          | 0/104 [00:00<?, ?it/s]"
      ]
     },
     "metadata": {},
     "output_type": "display_data"
    },
    {
     "name": "stderr",
     "output_type": "stream",
     "text": [
      "Epoch[722/778]:  93%|█████████▎| 720/778 [00:13<00:01, 51.52it/s]"
     ]
    },
    {
     "data": {
      "application/vnd.jupyter.widget-view+json": {
       "model_id": "bf29e5779a6b4915bc152d67cce64d30",
       "version_major": 2,
       "version_minor": 0
      },
      "text/plain": [
       "  0%|          | 0/104 [00:00<?, ?it/s]"
      ]
     },
     "metadata": {},
     "output_type": "display_data"
    },
    {
     "name": "stderr",
     "output_type": "stream",
     "text": [
      "Epoch[743/778]:  95%|█████████▍| 738/778 [00:13<00:00, 54.71it/s]"
     ]
    },
    {
     "data": {
      "application/vnd.jupyter.widget-view+json": {
       "model_id": "ac2fe34530bc4e6c844a3f7c63c365cf",
       "version_major": 2,
       "version_minor": 0
      },
      "text/plain": [
       "  0%|          | 0/104 [00:00<?, ?it/s]"
      ]
     },
     "metadata": {},
     "output_type": "display_data"
    },
    {
     "name": "stderr",
     "output_type": "stream",
     "text": [
      "Epoch[744/778]:  95%|█████████▍| 738/778 [00:13<00:00, 54.71it/s]"
     ]
    },
    {
     "data": {
      "application/vnd.jupyter.widget-view+json": {
       "model_id": "e7683e57585245d5a82fefb74f511377",
       "version_major": 2,
       "version_minor": 0
      },
      "text/plain": [
       "  0%|          | 0/104 [00:00<?, ?it/s]"
      ]
     },
     "metadata": {},
     "output_type": "display_data"
    },
    {
     "name": "stderr",
     "output_type": "stream",
     "text": [
      "Epoch[717/778]:  92%|█████████▏| 713/778 [00:13<00:01, 61.91it/s]"
     ]
    },
    {
     "data": {
      "application/vnd.jupyter.widget-view+json": {
       "model_id": "0bd2fa43f61d4969a481b27c8098debd",
       "version_major": 2,
       "version_minor": 0
      },
      "text/plain": [
       "  0%|          | 0/104 [00:00<?, ?it/s]"
      ]
     },
     "metadata": {},
     "output_type": "display_data"
    },
    {
     "name": "stderr",
     "output_type": "stream",
     "text": [
      "Epoch[754/778]:  97%|█████████▋| 752/778 [00:14<00:00, 55.89it/s]"
     ]
    },
    {
     "data": {
      "application/vnd.jupyter.widget-view+json": {
       "model_id": "df30c8cc34364dbe8a88a0030b3b9d5d",
       "version_major": 2,
       "version_minor": 0
      },
      "text/plain": [
       "  0%|          | 0/104 [00:00<?, ?it/s]"
      ]
     },
     "metadata": {},
     "output_type": "display_data"
    },
    {
     "name": "stderr",
     "output_type": "stream",
     "text": [
      "Epoch[5/778]:   0%|          | 0/778 [00:00<?, ?it/s]"
     ]
    },
    {
     "data": {
      "application/vnd.jupyter.widget-view+json": {
       "model_id": "346bad9b148648b68d12c028e5d471f6",
       "version_major": 2,
       "version_minor": 0
      },
      "text/plain": [
       "  0%|          | 0/104 [00:00<?, ?it/s]"
      ]
     },
     "metadata": {},
     "output_type": "display_data"
    },
    {
     "name": "stderr",
     "output_type": "stream",
     "text": [
      "Epoch[749/778]:  96%|█████████▌| 745/778 [00:13<00:00, 59.53it/s]"
     ]
    },
    {
     "data": {
      "application/vnd.jupyter.widget-view+json": {
       "model_id": "f5ef53ed989c4f478f129404fe512a02",
       "version_major": 2,
       "version_minor": 0
      },
      "text/plain": [
       "  0%|          | 0/104 [00:00<?, ?it/s]"
      ]
     },
     "metadata": {},
     "output_type": "display_data"
    },
    {
     "name": "stderr",
     "output_type": "stream",
     "text": [
      "Epoch[49/778]:   5%|▌         | 42/778 [00:00<00:12, 60.08it/s]s]"
     ]
    },
    {
     "data": {
      "application/vnd.jupyter.widget-view+json": {
       "model_id": "f9bd4a4a6d1e4f518496068832c0bebd",
       "version_major": 2,
       "version_minor": 0
      },
      "text/plain": [
       "  0%|          | 0/104 [00:00<?, ?it/s]"
      ]
     },
     "metadata": {},
     "output_type": "display_data"
    },
    {
     "name": "stderr",
     "output_type": "stream",
     "text": [
      "Epoch[3/778]:   0%|          | 0/778 [00:00<?, ?it/s], 60.87it/s]"
     ]
    },
    {
     "data": {
      "application/vnd.jupyter.widget-view+json": {
       "model_id": "15f336f1164f4bbb85d71c6c2bd0ee37",
       "version_major": 2,
       "version_minor": 0
      },
      "text/plain": [
       "  0%|          | 0/104 [00:00<?, ?it/s]"
      ]
     },
     "metadata": {},
     "output_type": "display_data"
    },
    {
     "name": "stderr",
     "output_type": "stream",
     "text": [
      "Epoch[66/778]:   8%|▊         | 61/778 [00:01<00:12, 55.35it/s]  "
     ]
    },
    {
     "data": {
      "application/vnd.jupyter.widget-view+json": {
       "model_id": "58a6aaadf1b34e4a89283cc41df838ef",
       "version_major": 2,
       "version_minor": 0
      },
      "text/plain": [
       "  0%|          | 0/104 [00:00<?, ?it/s]"
      ]
     },
     "metadata": {},
     "output_type": "display_data"
    },
    {
     "name": "stderr",
     "output_type": "stream",
     "text": [
      "Epoch[76/778]:  10%|▉         | 74/778 [00:01<00:12, 58.01it/s]"
     ]
    },
    {
     "data": {
      "application/vnd.jupyter.widget-view+json": {
       "model_id": "63f3b3aa0d544c2db8ceeb126e11e976",
       "version_major": 2,
       "version_minor": 0
      },
      "text/plain": [
       "  0%|          | 0/104 [00:00<?, ?it/s]"
      ]
     },
     "metadata": {},
     "output_type": "display_data"
    },
    {
     "name": "stderr",
     "output_type": "stream",
     "text": [
      "Epoch[22/778]:   2%|▏         | 18/778 [00:00<00:13, 56.84it/s]"
     ]
    },
    {
     "data": {
      "application/vnd.jupyter.widget-view+json": {
       "model_id": "b6dbba0b622b42ebb9d893400c09e578",
       "version_major": 2,
       "version_minor": 0
      },
      "text/plain": [
       "  0%|          | 0/104 [00:00<?, ?it/s]"
      ]
     },
     "metadata": {},
     "output_type": "display_data"
    },
    {
     "name": "stderr",
     "output_type": "stream",
     "text": [
      "Epoch[72/778]:   9%|▉         | 71/778 [00:01<00:11, 59.05it/s]"
     ]
    },
    {
     "data": {
      "application/vnd.jupyter.widget-view+json": {
       "model_id": "f8b61e92b2d74d0b999d3de5b0a76a3a",
       "version_major": 2,
       "version_minor": 0
      },
      "text/plain": [
       "  0%|          | 0/104 [00:00<?, ?it/s]"
      ]
     },
     "metadata": {},
     "output_type": "display_data"
    },
    {
     "name": "stderr",
     "output_type": "stream",
     "text": [
      "Epoch[5/778]:   0%|          | 0/778 [00:00<?, ?it/s]58.45it/s]s]"
     ]
    },
    {
     "data": {
      "application/vnd.jupyter.widget-view+json": {
       "model_id": "796226a4170d42ddbc38483ec6c0099a",
       "version_major": 2,
       "version_minor": 0
      },
      "text/plain": [
       "  0%|          | 0/104 [00:00<?, ?it/s]"
      ]
     },
     "metadata": {},
     "output_type": "display_data"
    },
    {
     "name": "stderr",
     "output_type": "stream",
     "text": [
      "Epoch[189/778]:  24%|██▎       | 183/778 [00:03<00:10, 55.97it/s]IOPub message rate exceeded.\n",
      "The Jupyter server will temporarily stop sending output\n",
      "to the client in order to avoid crashing it.\n",
      "To change this limit, set the config variable\n",
      "`--ServerApp.iopub_msg_rate_limit`.\n",
      "\n",
      "Current values:\n",
      "ServerApp.iopub_msg_rate_limit=1000.0 (msgs/sec)\n",
      "ServerApp.rate_limit_window=3.0 (secs)\n",
      "\n",
      "Epoch[664/778]:  85%|████████▌ | 662/778 [00:11<00:01, 60.05it/s]IOPub message rate exceeded.\n",
      "The Jupyter server will temporarily stop sending output\n",
      "to the client in order to avoid crashing it.\n",
      "To change this limit, set the config variable\n",
      "`--ServerApp.iopub_msg_rate_limit`.\n",
      "\n",
      "Current values:\n",
      "ServerApp.iopub_msg_rate_limit=1000.0 (msgs/sec)\n",
      "ServerApp.rate_limit_window=3.0 (secs)\n",
      "\n",
      "Epoch[690/778]:  88%|████████▊ | 687/778 [00:13<00:01, 51.03it/s]"
     ]
    },
    {
     "data": {
      "application/vnd.jupyter.widget-view+json": {
       "model_id": "19057b22ffb84b06ba3faedb5c1c8a55",
       "version_major": 2,
       "version_minor": 0
      },
      "text/plain": [
       "  0%|          | 0/104 [00:00<?, ?it/s]"
      ]
     },
     "metadata": {},
     "output_type": "display_data"
    },
    {
     "name": "stderr",
     "output_type": "stream",
     "text": [
      "Epoch[704/778]:  90%|████████▉ | 697/778 [00:13<00:01, 53.19it/s]"
     ]
    },
    {
     "data": {
      "application/vnd.jupyter.widget-view+json": {
       "model_id": "adcad6ec0f554c1690ab319185b6e514",
       "version_major": 2,
       "version_minor": 0
      },
      "text/plain": [
       "  0%|          | 0/104 [00:00<?, ?it/s]"
      ]
     },
     "metadata": {},
     "output_type": "display_data"
    },
    {
     "name": "stderr",
     "output_type": "stream",
     "text": [
      "Epoch[693/778]:  89%|████████▊ | 690/778 [00:13<00:01, 52.34it/s]"
     ]
    },
    {
     "data": {
      "application/vnd.jupyter.widget-view+json": {
       "model_id": "1f1774cb4bdf4f6589147219126eee24",
       "version_major": 2,
       "version_minor": 0
      },
      "text/plain": [
       "  0%|          | 0/104 [00:00<?, ?it/s]"
      ]
     },
     "metadata": {},
     "output_type": "display_data"
    },
    {
     "name": "stderr",
     "output_type": "stream",
     "text": [
      "Epoch[9/778]:   1%|          | 6/778 [00:00<00:13, 56.63it/s]s]s]"
     ]
    },
    {
     "data": {
      "application/vnd.jupyter.widget-view+json": {
       "model_id": "bd9c9267e55141d3a5ce99197641f97a",
       "version_major": 2,
       "version_minor": 0
      },
      "text/plain": [
       "  0%|          | 0/104 [00:00<?, ?it/s]"
      ]
     },
     "metadata": {},
     "output_type": "display_data"
    },
    {
     "name": "stderr",
     "output_type": "stream",
     "text": [
      "Epoch[90/778]:  11%|█         | 83/778 [00:01<00:13, 52.97it/s]"
     ]
    },
    {
     "data": {
      "application/vnd.jupyter.widget-view+json": {
       "model_id": "76decdf3d57249f9b95b5c33d2f1aea3",
       "version_major": 2,
       "version_minor": 0
      },
      "text/plain": [
       "  0%|          | 0/104 [00:00<?, ?it/s]"
      ]
     },
     "metadata": {},
     "output_type": "display_data"
    },
    {
     "name": "stderr",
     "output_type": "stream",
     "text": [
      "Epoch[22/778]:   2%|▏         | 19/778 [00:00<00:14, 54.01it/s]]"
     ]
    },
    {
     "data": {
      "application/vnd.jupyter.widget-view+json": {
       "model_id": "1e9c9e35351442a6839de8431a7116d2",
       "version_major": 2,
       "version_minor": 0
      },
      "text/plain": [
       "  0%|          | 0/104 [00:00<?, ?it/s]"
      ]
     },
     "metadata": {},
     "output_type": "display_data"
    },
    {
     "name": "stderr",
     "output_type": "stream",
     "text": [
      "Epoch[307/778]:  39%|███▉      | 307/778 [00:05<00:08, 56.43it/s]IOPub message rate exceeded.\n",
      "The Jupyter server will temporarily stop sending output\n",
      "to the client in order to avoid crashing it.\n",
      "To change this limit, set the config variable\n",
      "`--ServerApp.iopub_msg_rate_limit`.\n",
      "\n",
      "Current values:\n",
      "ServerApp.iopub_msg_rate_limit=1000.0 (msgs/sec)\n",
      "ServerApp.rate_limit_window=3.0 (secs)\n",
      "\n",
      "Epoch[670/778]:  86%|████████▌ | 670/778 [00:12<00:02, 50.61it/s]"
     ]
    },
    {
     "data": {
      "application/vnd.jupyter.widget-view+json": {
       "model_id": "d3135764599943abb7849909c36684a1",
       "version_major": 2,
       "version_minor": 0
      },
      "text/plain": [
       "  0%|          | 0/104 [00:00<?, ?it/s]"
      ]
     },
     "metadata": {},
     "output_type": "display_data"
    },
    {
     "name": "stderr",
     "output_type": "stream",
     "text": [
      "Epoch[697/778]:  89%|████████▉ | 694/778 [00:12<00:01, 54.44it/s]"
     ]
    },
    {
     "data": {
      "application/vnd.jupyter.widget-view+json": {
       "model_id": "6483d6e74de7461a958e5d3de7074f39",
       "version_major": 2,
       "version_minor": 0
      },
      "text/plain": [
       "  0%|          | 0/104 [00:00<?, ?it/s]"
      ]
     },
     "metadata": {},
     "output_type": "display_data"
    },
    {
     "name": "stderr",
     "output_type": "stream",
     "text": [
      "Epoch[690/778]:  88%|████████▊ | 685/778 [00:12<00:01, 52.07it/s]"
     ]
    },
    {
     "data": {
      "application/vnd.jupyter.widget-view+json": {
       "model_id": "f03d0c2a0da04e13be41adc0514ece9e",
       "version_major": 2,
       "version_minor": 0
      },
      "text/plain": [
       "  0%|          | 0/104 [00:00<?, ?it/s]"
      ]
     },
     "metadata": {},
     "output_type": "display_data"
    },
    {
     "name": "stderr",
     "output_type": "stream",
     "text": [
      "Epoch[702/778]:  90%|████████▉ | 700/778 [00:12<00:01, 51.80it/s]"
     ]
    },
    {
     "data": {
      "application/vnd.jupyter.widget-view+json": {
       "model_id": "7e1edd6c32ec430a90a28040e62d73b7",
       "version_major": 2,
       "version_minor": 0
      },
      "text/plain": [
       "  0%|          | 0/104 [00:00<?, ?it/s]"
      ]
     },
     "metadata": {},
     "output_type": "display_data"
    },
    {
     "name": "stderr",
     "output_type": "stream",
     "text": [
      "Epoch[712/778]:  91%|█████████ | 709/778 [00:13<00:01, 54.97it/s]"
     ]
    },
    {
     "data": {
      "application/vnd.jupyter.widget-view+json": {
       "model_id": "77676a6f3cf644f6862896cfd3ea65d6",
       "version_major": 2,
       "version_minor": 0
      },
      "text/plain": [
       "  0%|          | 0/104 [00:00<?, ?it/s]"
      ]
     },
     "metadata": {},
     "output_type": "display_data"
    },
    {
     "name": "stderr",
     "output_type": "stream",
     "text": [
      "Epoch[725/778]:  93%|█████████▎| 722/778 [00:13<00:00, 57.83it/s]"
     ]
    },
    {
     "data": {
      "application/vnd.jupyter.widget-view+json": {
       "model_id": "e1866745da684457b2b570ea88a8f010",
       "version_major": 2,
       "version_minor": 0
      },
      "text/plain": [
       "  0%|          | 0/104 [00:00<?, ?it/s]"
      ]
     },
     "metadata": {},
     "output_type": "display_data"
    },
    {
     "name": "stderr",
     "output_type": "stream",
     "text": [
      "Epoch[746/778]:  96%|█████████▌| 746/778 [00:13<00:00, 50.94it/s]"
     ]
    },
    {
     "data": {
      "application/vnd.jupyter.widget-view+json": {
       "model_id": "905997276de84b2281b49257701e1961",
       "version_major": 2,
       "version_minor": 0
      },
      "text/plain": [
       "  0%|          | 0/104 [00:00<?, ?it/s]"
      ]
     },
     "metadata": {},
     "output_type": "display_data"
    },
    {
     "name": "stderr",
     "output_type": "stream",
     "text": [
      "Epoch[777/778]:  99%|█████████▉| 770/778 [00:14<00:00, 49.80it/s]"
     ]
    },
    {
     "data": {
      "application/vnd.jupyter.widget-view+json": {
       "model_id": "8e3dadd5c4b841758fab77b419645a1a",
       "version_major": 2,
       "version_minor": 0
      },
      "text/plain": [
       "  0%|          | 0/104 [00:00<?, ?it/s]"
      ]
     },
     "metadata": {},
     "output_type": "display_data"
    },
    {
     "name": "stderr",
     "output_type": "stream",
     "text": [
      "Epoch[775/778]:  99%|█████████▉| 769/778 [00:14<00:00, 49.67it/s]"
     ]
    },
    {
     "data": {
      "application/vnd.jupyter.widget-view+json": {
       "model_id": "0bdaff0e55f64413a22ac77b7f0186eb",
       "version_major": 2,
       "version_minor": 0
      },
      "text/plain": [
       "  0%|          | 0/104 [00:00<?, ?it/s]"
      ]
     },
     "metadata": {},
     "output_type": "display_data"
    },
    {
     "name": "stderr",
     "output_type": "stream",
     "text": [
      "Epoch[61/778]:   7%|▋         | 56/778 [00:01<00:13, 53.84it/s]s]"
     ]
    },
    {
     "data": {
      "application/vnd.jupyter.widget-view+json": {
       "model_id": "d29ba4dbf94a4ee3a2840bb2a7a7424b",
       "version_major": 2,
       "version_minor": 0
      },
      "text/plain": [
       "  0%|          | 0/104 [00:00<?, ?it/s]"
      ]
     },
     "metadata": {},
     "output_type": "display_data"
    },
    {
     "name": "stderr",
     "output_type": "stream",
     "text": [
      "Epoch[62/778]:   8%|▊         | 62/778 [00:01<00:13, 54.67it/s]  "
     ]
    },
    {
     "data": {
      "application/vnd.jupyter.widget-view+json": {
       "model_id": "79213dd04918490fbb0fcfbc51f19f04",
       "version_major": 2,
       "version_minor": 0
      },
      "text/plain": [
       "  0%|          | 0/104 [00:00<?, ?it/s]"
      ]
     },
     "metadata": {},
     "output_type": "display_data"
    },
    {
     "name": "stderr",
     "output_type": "stream",
     "text": [
      "Epoch[55/778]:   7%|▋         | 55/778 [00:01<00:13, 52.24it/s]"
     ]
    },
    {
     "data": {
      "application/vnd.jupyter.widget-view+json": {
       "model_id": "a992e20fbf3d4e97be9b0f2320b0fffe",
       "version_major": 2,
       "version_minor": 0
      },
      "text/plain": [
       "  0%|          | 0/104 [00:00<?, ?it/s]"
      ]
     },
     "metadata": {},
     "output_type": "display_data"
    },
    {
     "data": {
      "application/vnd.jupyter.widget-view+json": {
       "model_id": "32a895e52df14953b191c371798fff7a",
       "version_major": 2,
       "version_minor": 0
      },
      "text/plain": [
       "  0%|          | 0/104 [00:00<?, ?it/s]"
      ]
     },
     "metadata": {},
     "output_type": "display_data"
    },
    {
     "name": "stderr",
     "output_type": "stream",
     "text": [
      "Epoch[74/778]:  10%|▉         | 74/778 [00:01<00:12, 54.54it/s]"
     ]
    },
    {
     "data": {
      "application/vnd.jupyter.widget-view+json": {
       "model_id": "8186403606594e90944ff4967136acb8",
       "version_major": 2,
       "version_minor": 0
      },
      "text/plain": [
       "  0%|          | 0/104 [00:00<?, ?it/s]"
      ]
     },
     "metadata": {},
     "output_type": "display_data"
    },
    {
     "name": "stderr",
     "output_type": "stream",
     "text": [
      "Epoch[93/778]:  11%|█         | 86/778 [00:01<00:14, 49.13it/s]"
     ]
    },
    {
     "data": {
      "application/vnd.jupyter.widget-view+json": {
       "model_id": "7e898e1b21ab4b05b89bd52a43ae5a84",
       "version_major": 2,
       "version_minor": 0
      },
      "text/plain": [
       "  0%|          | 0/104 [00:00<?, ?it/s]"
      ]
     },
     "metadata": {},
     "output_type": "display_data"
    },
    {
     "name": "stderr",
     "output_type": "stream",
     "text": [
      "Epoch[32/778]:   4%|▎         | 28/778 [00:00<00:12, 58.12it/s]]"
     ]
    },
    {
     "data": {
      "application/vnd.jupyter.widget-view+json": {
       "model_id": "214336e1f4474ff38bdde7b63013eac7",
       "version_major": 2,
       "version_minor": 0
      },
      "text/plain": [
       "  0%|          | 0/104 [00:00<?, ?it/s]"
      ]
     },
     "metadata": {},
     "output_type": "display_data"
    },
    {
     "name": "stderr",
     "output_type": "stream",
     "text": [
      "Epoch[687/778]:  88%|████████▊ | 682/778 [00:12<00:01, 53.37it/s]"
     ]
    },
    {
     "data": {
      "application/vnd.jupyter.widget-view+json": {
       "model_id": "e364130e0f28454eb8e101afc42623b8",
       "version_major": 2,
       "version_minor": 0
      },
      "text/plain": [
       "  0%|          | 0/104 [00:00<?, ?it/s]"
      ]
     },
     "metadata": {},
     "output_type": "display_data"
    },
    {
     "name": "stderr",
     "output_type": "stream",
     "text": [
      "Epoch[737/778]:  94%|█████████▍| 731/778 [00:13<00:00, 51.52it/s]"
     ]
    },
    {
     "data": {
      "application/vnd.jupyter.widget-view+json": {
       "model_id": "5781ec45165a4a59bfaa7f8efc47a229",
       "version_major": 2,
       "version_minor": 0
      },
      "text/plain": [
       "  0%|          | 0/104 [00:00<?, ?it/s]"
      ]
     },
     "metadata": {},
     "output_type": "display_data"
    },
    {
     "name": "stderr",
     "output_type": "stream",
     "text": [
      "Epoch[712/778]:  91%|█████████ | 709/778 [00:12<00:01, 52.31it/s]"
     ]
    },
    {
     "data": {
      "application/vnd.jupyter.widget-view+json": {
       "model_id": "d79f798a013242c888d8c51ddbde114f",
       "version_major": 2,
       "version_minor": 0
      },
      "text/plain": [
       "  0%|          | 0/104 [00:00<?, ?it/s]"
      ]
     },
     "metadata": {},
     "output_type": "display_data"
    },
    {
     "name": "stderr",
     "output_type": "stream",
     "text": [
      "Epoch[731/778]:  94%|█████████▍| 730/778 [00:13<00:00, 50.37it/s]"
     ]
    },
    {
     "data": {
      "application/vnd.jupyter.widget-view+json": {
       "model_id": "567c17f6d0be444890fb04bedff9baf5",
       "version_major": 2,
       "version_minor": 0
      },
      "text/plain": [
       "  0%|          | 0/104 [00:00<?, ?it/s]"
      ]
     },
     "metadata": {},
     "output_type": "display_data"
    },
    {
     "name": "stderr",
     "output_type": "stream",
     "text": [
      "Epoch[69/778]:   8%|▊         | 65/778 [00:01<00:13, 51.76it/s]s]"
     ]
    },
    {
     "data": {
      "application/vnd.jupyter.widget-view+json": {
       "model_id": "fdbe6ba023b345fcbdfdb2ee617625c8",
       "version_major": 2,
       "version_minor": 0
      },
      "text/plain": [
       "  0%|          | 0/104 [00:00<?, ?it/s]"
      ]
     },
     "metadata": {},
     "output_type": "display_data"
    },
    {
     "name": "stderr",
     "output_type": "stream",
     "text": [
      "Epoch[44/778]:   5%|▌         | 40/778 [00:00<00:13, 53.91it/s]s]"
     ]
    },
    {
     "data": {
      "application/vnd.jupyter.widget-view+json": {
       "model_id": "082e46e6e6c34813af01aff2bce2198e",
       "version_major": 2,
       "version_minor": 0
      },
      "text/plain": [
       "  0%|          | 0/104 [00:00<?, ?it/s]"
      ]
     },
     "metadata": {},
     "output_type": "display_data"
    },
    {
     "name": "stderr",
     "output_type": "stream",
     "text": [
      "Epoch[773/778]:  99%|█████████▉| 773/778 [00:14<00:00, 48.12it/s]"
     ]
    },
    {
     "data": {
      "application/vnd.jupyter.widget-view+json": {
       "model_id": "3eab8d01f90a44f38a863f562999074a",
       "version_major": 2,
       "version_minor": 0
      },
      "text/plain": [
       "  0%|          | 0/104 [00:00<?, ?it/s]"
      ]
     },
     "metadata": {},
     "output_type": "display_data"
    },
    {
     "name": "stderr",
     "output_type": "stream",
     "text": [
      "Epoch[89/778]:  11%|█         | 83/778 [00:01<00:13, 51.26it/s]s]"
     ]
    },
    {
     "data": {
      "application/vnd.jupyter.widget-view+json": {
       "model_id": "15d0330f1eb6447c8e3c043ed3181f64",
       "version_major": 2,
       "version_minor": 0
      },
      "text/plain": [
       "  0%|          | 0/104 [00:00<?, ?it/s]"
      ]
     },
     "metadata": {},
     "output_type": "display_data"
    },
    {
     "name": "stderr",
     "output_type": "stream",
     "text": [
      "Epoch[772/778]:  98%|█████████▊| 766/778 [00:14<00:00, 50.23it/s]"
     ]
    },
    {
     "data": {
      "application/vnd.jupyter.widget-view+json": {
       "model_id": "5f2094040ebe419d926e4ef344435e80",
       "version_major": 2,
       "version_minor": 0
      },
      "text/plain": [
       "  0%|          | 0/104 [00:00<?, ?it/s]"
      ]
     },
     "metadata": {},
     "output_type": "display_data"
    },
    {
     "name": "stderr",
     "output_type": "stream",
     "text": [
      "Epoch[111/778]:  14%|█▍        | 107/778 [00:02<00:13, 50.50it/s]"
     ]
    },
    {
     "data": {
      "application/vnd.jupyter.widget-view+json": {
       "model_id": "5b996109406541ef9240ba828af00fe5",
       "version_major": 2,
       "version_minor": 0
      },
      "text/plain": [
       "  0%|          | 0/104 [00:00<?, ?it/s]"
      ]
     },
     "metadata": {},
     "output_type": "display_data"
    },
    {
     "name": "stderr",
     "output_type": "stream",
     "text": [
      "Epoch[23/778]:   2%|▏         | 18/778 [00:00<00:13, 55.50it/s]s]"
     ]
    },
    {
     "data": {
      "application/vnd.jupyter.widget-view+json": {
       "model_id": "eb9b3db0f6d2402a84ae1627957206f3",
       "version_major": 2,
       "version_minor": 0
      },
      "text/plain": [
       "  0%|          | 0/104 [00:00<?, ?it/s]"
      ]
     },
     "metadata": {},
     "output_type": "display_data"
    },
    {
     "name": "stderr",
     "output_type": "stream",
     "text": [
      "Epoch[119/778]:  15%|█▍        | 114/778 [00:02<00:12, 54.39it/s]"
     ]
    },
    {
     "data": {
      "application/vnd.jupyter.widget-view+json": {
       "model_id": "518cb4d5a4534295a73f78c6513017fc",
       "version_major": 2,
       "version_minor": 0
      },
      "text/plain": [
       "  0%|          | 0/104 [00:00<?, ?it/s]"
      ]
     },
     "metadata": {},
     "output_type": "display_data"
    },
    {
     "name": "stderr",
     "output_type": "stream",
     "text": [
      "Epoch[180/778]:  22%|██▏       | 175/778 [00:03<00:12, 48.74it/s]"
     ]
    },
    {
     "data": {
      "application/vnd.jupyter.widget-view+json": {
       "model_id": "9782a033bc4841be988cd3d6d441fda3",
       "version_major": 2,
       "version_minor": 0
      },
      "text/plain": [
       "  0%|          | 0/104 [00:00<?, ?it/s]"
      ]
     },
     "metadata": {},
     "output_type": "display_data"
    },
    {
     "name": "stderr",
     "output_type": "stream",
     "text": [
      "Epoch[484/778]:  62%|██████▏   | 480/778 [00:08<00:05, 58.66it/s]IOPub message rate exceeded.\n",
      "The Jupyter server will temporarily stop sending output\n",
      "to the client in order to avoid crashing it.\n",
      "To change this limit, set the config variable\n",
      "`--ServerApp.iopub_msg_rate_limit`.\n",
      "\n",
      "Current values:\n",
      "ServerApp.iopub_msg_rate_limit=1000.0 (msgs/sec)\n",
      "ServerApp.rate_limit_window=3.0 (secs)\n",
      "\n",
      "Epoch[94/778]:  12%|█▏        | 94/778 [00:01<00:11, 58.07it/s]s]"
     ]
    },
    {
     "data": {
      "application/vnd.jupyter.widget-view+json": {
       "model_id": "2c02aa8a49a5464eb92af82643094fe2",
       "version_major": 2,
       "version_minor": 0
      },
      "text/plain": [
       "  0%|          | 0/104 [00:00<?, ?it/s]"
      ]
     },
     "metadata": {},
     "output_type": "display_data"
    },
    {
     "name": "stderr",
     "output_type": "stream",
     "text": [
      "Epoch[46/778]:   6%|▌         | 43/778 [00:00<00:12, 58.21it/s]s]"
     ]
    },
    {
     "data": {
      "application/vnd.jupyter.widget-view+json": {
       "model_id": "652c6398ec094c35b0f679e9e4841f03",
       "version_major": 2,
       "version_minor": 0
      },
      "text/plain": [
       "  0%|          | 0/104 [00:00<?, ?it/s]"
      ]
     },
     "metadata": {},
     "output_type": "display_data"
    },
    {
     "name": "stderr",
     "output_type": "stream",
     "text": [
      "Epoch[117/778]:  15%|█▍        | 114/778 [00:02<00:11, 56.23it/s]"
     ]
    },
    {
     "data": {
      "application/vnd.jupyter.widget-view+json": {
       "model_id": "a26a5534abdb4b6cb3c5bb4f7ec696b1",
       "version_major": 2,
       "version_minor": 0
      },
      "text/plain": [
       "  0%|          | 0/104 [00:00<?, ?it/s]"
      ]
     },
     "metadata": {},
     "output_type": "display_data"
    },
    {
     "name": "stderr",
     "output_type": "stream",
     "text": [
      "Epoch[25/778]:   3%|▎         | 20/778 [00:00<00:12, 59.59it/s]s]"
     ]
    },
    {
     "data": {
      "application/vnd.jupyter.widget-view+json": {
       "model_id": "d6e2411c653e4be68c8b4d5c30d5578a",
       "version_major": 2,
       "version_minor": 0
      },
      "text/plain": [
       "  0%|          | 0/104 [00:00<?, ?it/s]"
      ]
     },
     "metadata": {},
     "output_type": "display_data"
    },
    {
     "name": "stderr",
     "output_type": "stream",
     "text": [
      "Epoch[625/778]:  80%|███████▉  | 620/778 [00:11<00:02, 55.91it/s]"
     ]
    },
    {
     "data": {
      "application/vnd.jupyter.widget-view+json": {
       "model_id": "ce0ce2b9f67443e29a7b3984e6527050",
       "version_major": 2,
       "version_minor": 0
      },
      "text/plain": [
       "  0%|          | 0/104 [00:00<?, ?it/s]"
      ]
     },
     "metadata": {},
     "output_type": "display_data"
    },
    {
     "name": "stderr",
     "output_type": "stream",
     "text": [
      "Epoch[631/778]:  80%|████████  | 625/778 [00:11<00:02, 54.04it/s]"
     ]
    },
    {
     "data": {
      "application/vnd.jupyter.widget-view+json": {
       "model_id": "692f6b68bb8d43c1a60d05dcfb7dcb47",
       "version_major": 2,
       "version_minor": 0
      },
      "text/plain": [
       "  0%|          | 0/104 [00:00<?, ?it/s]"
      ]
     },
     "metadata": {},
     "output_type": "display_data"
    },
    {
     "name": "stderr",
     "output_type": "stream",
     "text": [
      "Epoch[675/778]:  87%|████████▋ | 673/778 [00:12<00:01, 55.27it/s]"
     ]
    },
    {
     "data": {
      "application/vnd.jupyter.widget-view+json": {
       "model_id": "9ffe3aa2a4854d7dabd6004fbbeb5207",
       "version_major": 2,
       "version_minor": 0
      },
      "text/plain": [
       "  0%|          | 0/104 [00:00<?, ?it/s]"
      ]
     },
     "metadata": {},
     "output_type": "display_data"
    },
    {
     "name": "stderr",
     "output_type": "stream",
     "text": [
      "Epoch[703/778]:  90%|████████▉ | 698/778 [00:13<00:01, 54.94it/s]"
     ]
    },
    {
     "data": {
      "application/vnd.jupyter.widget-view+json": {
       "model_id": "17491f0864d341c698b073be7726b728",
       "version_major": 2,
       "version_minor": 0
      },
      "text/plain": [
       "  0%|          | 0/104 [00:00<?, ?it/s]"
      ]
     },
     "metadata": {},
     "output_type": "display_data"
    },
    {
     "name": "stderr",
     "output_type": "stream",
     "text": [
      "Epoch[699/778]:  89%|████████▉ | 693/778 [00:12<00:01, 57.66it/s]IOPub message rate exceeded.\n",
      "The Jupyter server will temporarily stop sending output\n",
      "to the client in order to avoid crashing it.\n",
      "To change this limit, set the config variable\n",
      "`--ServerApp.iopub_msg_rate_limit`.\n",
      "\n",
      "Current values:\n",
      "ServerApp.iopub_msg_rate_limit=1000.0 (msgs/sec)\n",
      "ServerApp.rate_limit_window=3.0 (secs)\n",
      "\n",
      "Epoch[709/778]:  91%|█████████ | 709/778 [00:13<00:01, 47.91it/s]"
     ]
    },
    {
     "data": {
      "application/vnd.jupyter.widget-view+json": {
       "model_id": "5f5c19138b1c4531820a182aeb0b9128",
       "version_major": 2,
       "version_minor": 0
      },
      "text/plain": [
       "  0%|          | 0/104 [00:00<?, ?it/s]"
      ]
     },
     "metadata": {},
     "output_type": "display_data"
    },
    {
     "name": "stderr",
     "output_type": "stream",
     "text": [
      "Epoch[711/778]:  91%|█████████ | 706/778 [00:13<00:01, 53.02it/s]"
     ]
    },
    {
     "data": {
      "application/vnd.jupyter.widget-view+json": {
       "model_id": "349a4ee1ed3c45218728cf71463a3df0",
       "version_major": 2,
       "version_minor": 0
      },
      "text/plain": [
       "  0%|          | 0/104 [00:00<?, ?it/s]"
      ]
     },
     "metadata": {},
     "output_type": "display_data"
    },
    {
     "name": "stderr",
     "output_type": "stream",
     "text": [
      "Epoch[642/778]:  82%|████████▏ | 639/778 [00:11<00:02, 48.77it/s]"
     ]
    },
    {
     "data": {
      "application/vnd.jupyter.widget-view+json": {
       "model_id": "3d0027b023674c97971061db2fda6caa",
       "version_major": 2,
       "version_minor": 0
      },
      "text/plain": [
       "  0%|          | 0/104 [00:00<?, ?it/s]"
      ]
     },
     "metadata": {},
     "output_type": "display_data"
    },
    {
     "name": "stderr",
     "output_type": "stream",
     "text": [
      "Epoch[646/778]:  83%|████████▎ | 645/778 [00:11<00:02, 48.38it/s]"
     ]
    },
    {
     "data": {
      "application/vnd.jupyter.widget-view+json": {
       "model_id": "a2b15951f25c4e2cb7229afa28986940",
       "version_major": 2,
       "version_minor": 0
      },
      "text/plain": [
       "  0%|          | 0/104 [00:00<?, ?it/s]"
      ]
     },
     "metadata": {},
     "output_type": "display_data"
    },
    {
     "name": "stderr",
     "output_type": "stream",
     "text": [
      "Epoch[713/778]:  92%|█████████▏| 712/778 [00:13<00:01, 54.84it/s]"
     ]
    },
    {
     "data": {
      "application/vnd.jupyter.widget-view+json": {
       "model_id": "83aaaf3a665848bda0ae60e85aef018a",
       "version_major": 2,
       "version_minor": 0
      },
      "text/plain": [
       "  0%|          | 0/104 [00:00<?, ?it/s]"
      ]
     },
     "metadata": {},
     "output_type": "display_data"
    },
    {
     "name": "stderr",
     "output_type": "stream",
     "text": [
      "Epoch[735/778]:  93%|█████████▎| 727/778 [00:13<00:01, 48.79it/s]"
     ]
    },
    {
     "data": {
      "application/vnd.jupyter.widget-view+json": {
       "model_id": "a229369b91164b7cafdbab15bd3f2841",
       "version_major": 2,
       "version_minor": 0
      },
      "text/plain": [
       "  0%|          | 0/104 [00:00<?, ?it/s]"
      ]
     },
     "metadata": {},
     "output_type": "display_data"
    },
    {
     "name": "stderr",
     "output_type": "stream",
     "text": [
      "Epoch[740/778]:  94%|█████████▍| 735/778 [00:13<00:00, 46.96it/s]"
     ]
    },
    {
     "data": {
      "application/vnd.jupyter.widget-view+json": {
       "model_id": "01fb2a1952b54c5b92ae30287b39663d",
       "version_major": 2,
       "version_minor": 0
      },
      "text/plain": [
       "  0%|          | 0/104 [00:00<?, ?it/s]"
      ]
     },
     "metadata": {},
     "output_type": "display_data"
    },
    {
     "name": "stderr",
     "output_type": "stream",
     "text": [
      "Epoch[67/778]:   8%|▊         | 64/778 [00:01<00:12, 57.45it/s]s]"
     ]
    },
    {
     "data": {
      "application/vnd.jupyter.widget-view+json": {
       "model_id": "29635d9ee1654956a579c2adae30ee3e",
       "version_major": 2,
       "version_minor": 0
      },
      "text/plain": [
       "  0%|          | 0/104 [00:00<?, ?it/s]"
      ]
     },
     "metadata": {},
     "output_type": "display_data"
    },
    {
     "name": "stderr",
     "output_type": "stream",
     "text": [
      "Epoch[89/778]:  11%|█         | 87/778 [00:01<00:12, 55.16it/s]s]"
     ]
    },
    {
     "data": {
      "application/vnd.jupyter.widget-view+json": {
       "model_id": "0663f5d9b5fc4ec295a6542ff49321f9",
       "version_major": 2,
       "version_minor": 0
      },
      "text/plain": [
       "  0%|          | 0/104 [00:00<?, ?it/s]"
      ]
     },
     "metadata": {},
     "output_type": "display_data"
    },
    {
     "name": "stderr",
     "output_type": "stream",
     "text": [
      "Epoch[755/778]:  97%|█████████▋| 753/778 [00:13<00:00, 57.00it/s]"
     ]
    },
    {
     "data": {
      "application/vnd.jupyter.widget-view+json": {
       "model_id": "ee0f46e8936d48a8a83817700a5afd82",
       "version_major": 2,
       "version_minor": 0
      },
      "text/plain": [
       "  0%|          | 0/104 [00:00<?, ?it/s]"
      ]
     },
     "metadata": {},
     "output_type": "display_data"
    },
    {
     "name": "stderr",
     "output_type": "stream",
     "text": [
      "Epoch[29/778]:   4%|▎         | 28/778 [00:00<00:12, 60.71it/s]s]"
     ]
    },
    {
     "data": {
      "application/vnd.jupyter.widget-view+json": {
       "model_id": "2581ba0809c343ce8a09166644407cc1",
       "version_major": 2,
       "version_minor": 0
      },
      "text/plain": [
       "  0%|          | 0/104 [00:00<?, ?it/s]"
      ]
     },
     "metadata": {},
     "output_type": "display_data"
    },
    {
     "name": "stderr",
     "output_type": "stream",
     "text": [
      "Epoch[127/778]:  16%|█▌        | 123/778 [00:02<00:11, 55.23it/s]"
     ]
    },
    {
     "data": {
      "application/vnd.jupyter.widget-view+json": {
       "model_id": "fa791adae1be4949bf2bb8c037db3812",
       "version_major": 2,
       "version_minor": 0
      },
      "text/plain": [
       "  0%|          | 0/104 [00:00<?, ?it/s]"
      ]
     },
     "metadata": {},
     "output_type": "display_data"
    },
    {
     "name": "stderr",
     "output_type": "stream",
     "text": [
      "Epoch[139/778]:  17%|█▋        | 134/778 [00:02<00:11, 55.34it/s]"
     ]
    },
    {
     "data": {
      "application/vnd.jupyter.widget-view+json": {
       "model_id": "6a0ea156ac924de2ba220f3d823b7f13",
       "version_major": 2,
       "version_minor": 0
      },
      "text/plain": [
       "  0%|          | 0/104 [00:00<?, ?it/s]"
      ]
     },
     "metadata": {},
     "output_type": "display_data"
    },
    {
     "name": "stderr",
     "output_type": "stream",
     "text": [
      "Epoch[135/778]:  17%|█▋        | 129/778 [00:02<00:11, 54.33it/s]"
     ]
    },
    {
     "data": {
      "application/vnd.jupyter.widget-view+json": {
       "model_id": "00e5deb74dc945728f8a0d08a372b887",
       "version_major": 2,
       "version_minor": 0
      },
      "text/plain": [
       "  0%|          | 0/104 [00:00<?, ?it/s]"
      ]
     },
     "metadata": {},
     "output_type": "display_data"
    },
    {
     "name": "stderr",
     "output_type": "stream",
     "text": [
      "Epoch[10/778]:   1%|          | 6/778 [00:00<00:13, 55.18it/s]]s]"
     ]
    },
    {
     "data": {
      "application/vnd.jupyter.widget-view+json": {
       "model_id": "5410055ae13746b48745c0ab93d64346",
       "version_major": 2,
       "version_minor": 0
      },
      "text/plain": [
       "  0%|          | 0/104 [00:00<?, ?it/s]"
      ]
     },
     "metadata": {},
     "output_type": "display_data"
    },
    {
     "name": "stderr",
     "output_type": "stream",
     "text": [
      "Epoch[94/778]:  11%|█▏        | 89/778 [00:01<00:12, 57.06it/s]s]"
     ]
    },
    {
     "data": {
      "application/vnd.jupyter.widget-view+json": {
       "model_id": "c6213936e07b4ed6b9527790007178f2",
       "version_major": 2,
       "version_minor": 0
      },
      "text/plain": [
       "  0%|          | 0/104 [00:00<?, ?it/s]"
      ]
     },
     "metadata": {},
     "output_type": "display_data"
    },
    {
     "name": "stderr",
     "output_type": "stream",
     "text": [
      "Epoch[187/778]:  24%|██▎       | 184/778 [00:03<00:10, 56.18it/s]IOPub message rate exceeded.\n",
      "The Jupyter server will temporarily stop sending output\n",
      "to the client in order to avoid crashing it.\n",
      "To change this limit, set the config variable\n",
      "`--ServerApp.iopub_msg_rate_limit`.\n",
      "\n",
      "Current values:\n",
      "ServerApp.iopub_msg_rate_limit=1000.0 (msgs/sec)\n",
      "ServerApp.rate_limit_window=3.0 (secs)\n",
      "\n",
      "                                                                  \r"
     ]
    },
    {
     "name": "stdout",
     "output_type": "stream",
     "text": [
      "--- 972.8759214878082 seconds ---\n"
     ]
    }
   ],
   "source": [
    "start_time = time.time()\n",
    "today = datetime.today()\n",
    "start_date = today - timedelta(weeks=weeeks_prior_data_end_date)\n",
    "start_date = start_date.replace(second=0, microsecond=0)\n",
    "\n",
    "data = yf.download(load_tickers(ticker_path), start=start_date)\n",
    "adj_close_df = data['Adj Close']\n",
    "adj_close_df = adj_close_df.dropna(axis=1, how='all')\n",
    "series = [adj_close_df[f'{col}'].reset_index().rename({'Date':'ds', f'{col}':'y'}, axis=1) for col in adj_close_df]\n",
    "\n",
    "\n",
    "start_time00 = time.time()\n",
    "p1 = Pool(cpu_count())\n",
    "\n",
    "if model_to_use == 'FBP':\n",
    "    predictions1 = list(tqdm(p1.imap(run_prophet, series), total=len(series)))\n",
    "\n",
    "elif model_to_use == 'NP':\n",
    "    predictions2 = list(tqdm(p1.imap(run_nueral_prophet, series), total=len(series)))\n",
    "\n",
    "p1.close()\n",
    "p1.join()\n",
    "print(\"--- %s seconds ---\" % (time.time() - start_time00))"
   ]
  },
  {
   "cell_type": "code",
   "execution_count": 15,
   "id": "4ed05e9c-124f-4815-9af2-ff63f4a6baea",
   "metadata": {},
   "outputs": [
    {
     "name": "stdout",
     "output_type": "stream",
     "text": [
      "Django SQL DB Already empty:\n",
      "\n",
      "[]\n",
      "+++ AVGO success!\n",
      "+++ CRL success!\n",
      "+++ A success!\n",
      "+++ CRM success!\n",
      "+++ AAL success!\n",
      "+++ CL success!\n",
      "+++ AAP success!\n",
      "+++ CSCO success!\n",
      "+++ CBRE success!\n",
      "+++ AAPL success!\n",
      "+++ CCI success!\n",
      "+++ CSX success!\n",
      "+++ AVY success!\n",
      "+++ AMP success!\n",
      "+++ AWK success!\n",
      "+++ CLX success!\n",
      "+++ AXP success!\n",
      "+++ AMT success!\n",
      "+++ BKR success!\n",
      "+++ ABBV success!\n",
      "+++ AZO success!\n",
      "+++ CMA success!\n",
      "+++ BA success!\n",
      "+++ CMCSA success!\n",
      "+++ ABC success!\n",
      "+++ AMZN success!\n",
      "+++ CCL success!\n",
      "+++ ABMD success!\n",
      "+++ CDAY success!\n",
      "+++ ABT success!\n",
      "+++ CDNS success!\n",
      "+++ ACN success!\n",
      "+++ CME success!\n",
      "+++ ANET success!\n",
      "+++ CMG success!\n",
      "+++ ADBE success!\n",
      "+++ CDW success!\n",
      "+++ ANSS success!\n",
      "+++ CE success!\n",
      "+++ ANTM success!\n",
      "+++ CEG success!\n",
      "+++ AON success!\n",
      "+++ BAC success!\n",
      "+++ AOS success!\n",
      "+++ ADI success!\n",
      "+++ BAX success!\n",
      "+++ ADM success!\n",
      "+++ BBWI success!\n",
      "+++ ADP success!\n",
      "+++ BBY success!\n",
      "+++ ADSK success!\n",
      "+++ BDX success!\n",
      "+++ CMI success!\n",
      "+++ BEN success!\n",
      "+++ AES success!\n",
      "+++ BIIB success!\n",
      "+++ AFL success!\n",
      "+++ BIO success!\n",
      "+++ AIG success!\n",
      "+++ BK success!\n",
      "+++ BLK success!\n",
      "+++ APA success!\n",
      "+++ BLL success!\n",
      "+++ AEE success!\n",
      "+++ BMY success!\n",
      "+++ AEP success!\n",
      "+++ AIZ success!\n",
      "+++ DE success!\n",
      "+++ BR success!\n",
      "+++ CMS success!\n",
      "+++ DFS success!\n",
      "+++ CNC success!\n",
      "+++ DG success!\n",
      "+++ CNP success!\n",
      "+++ DGX success!\n",
      "+++ COF success!\n",
      "+++ DHI success!\n",
      "+++ COO success!\n",
      "+++ DHR success!\n",
      "+++ CERN success!\n",
      "+++ APD success!\n",
      "+++ DIS success!\n",
      "+++ APH success!\n",
      "+++ DISCK success!\n",
      "+++ APTV success!\n",
      "+++ DISH success!\n",
      "+++ ARE success!\n",
      "+++ DLR success!\n",
      "+++ ATO success!\n",
      "+++ DLTR success!\n",
      "+++ ATVI success!\n",
      "+++ DOV success!\n",
      "+++ BRO success!\n",
      "+++ DOW success!\n",
      "+++ BSX success!\n",
      "+++ DPZ success!\n",
      "+++ AJG success!\n",
      "+++ BKNG success!\n",
      "+++ AKAM success!\n",
      "+++ AVB success!\n",
      "+++ CTAS success!\n",
      "+++ DTE success!\n",
      "+++ ALB success!\n",
      "+++ CTLT success!\n",
      "+++ ALGN success!\n",
      "+++ CTRA success!\n",
      "+++ ALK success!\n",
      "+++ CTSH success!\n",
      "+++ COP success!\n",
      "+++ CTVA success!\n",
      "+++ EOG success!\n",
      "+++ CTXS success!\n",
      "+++ ALL success!\n",
      "+++ COST success!\n",
      "+++ ALLE success!\n",
      "+++ DRE success!\n",
      "+++ AMAT success!\n",
      "+++ DRI success!\n",
      "+++ AMCR success!\n",
      "+++ FANG success!\n",
      "+++ AMD success!\n",
      "+++ FAST success!\n",
      "+++ AME success!\n",
      "+++ CF success!\n",
      "+++ DUK success!\n",
      "+++ CPB success!\n",
      "+++ CFG success!\n",
      "+++ BWA success!\n",
      "+++ CPRT success!\n",
      "+++ DVA success!\n",
      "+++ FRC success!\n",
      "+++ AMGN success!\n",
      "+++ FRT success!\n",
      "+++ FB success!\n",
      "+++ FTNT success!\n",
      "+++ CVS success!\n",
      "+++ FTV success!\n",
      "+++ CVX success!\n",
      "+++ GD success!\n",
      "+++ CZR success!\n",
      "+++ GE success!\n",
      "+++ CHD success!\n",
      "+++ DVN success!\n",
      "+++ CHRW success!\n",
      "+++ EPAM success!\n",
      "+++ CHTR success!\n",
      "+++ DXC success!\n",
      "+++ GILD success!\n",
      "+++ DXCM success!\n",
      "+++ GIS success!\n",
      "+++ EA success!\n",
      "+++ CI success!\n",
      "+++ EQIX success!\n",
      "+++ CINF success!\n",
      "+++ EQR success!\n",
      "+++ HRL success!\n",
      "+++ ES success!\n",
      "+++ EBAY success!\n",
      "+++ GRMN success!\n",
      "+++ BXP success!\n",
      "+++ ECL success!\n",
      "+++ GS success!\n",
      "+++ C success!\n",
      "+++ GWW success!\n",
      "+++ ESS success!\n",
      "+++ HAL success!\n",
      "+++ ETN success!\n",
      "+++ HAS success!\n",
      "+++ ETR success!\n",
      "+++ HBAN success!\n",
      "+++ ETSY success!\n",
      "+++ HCA success!\n",
      "+++ EVRG success!\n",
      "+++ CAG success!\n",
      "+++ FBHS success!\n",
      "+++ CAH success!\n",
      "+++ FCX success!\n",
      "+++ CARR success!\n",
      "+++ FDS success!\n",
      "+++ CAT success!\n",
      "+++ EW success!\n",
      "+++ CB success!\n",
      "+++ D success!\n",
      "+++ EXC success!\n",
      "+++ DAL success!\n",
      "+++ FDX success!\n",
      "+++ DD success!\n",
      "+++ FE success!\n",
      "+++ HSIC success!\n",
      "+++ FFIV success!\n",
      "+++ IPG success!\n",
      "+++ FIS success!\n",
      "+++ EXPD success!\n",
      "+++ IQV success!\n",
      "+++ FISV success!\n",
      "+++ IR success!\n",
      "+++ HD success!\n",
      "+++ IRM success!\n",
      "+++ HES success!\n",
      "+++ ISRG success!\n",
      "+++ HIG success!\n",
      "+++ HST success!\n",
      "+++ HII success!\n",
      "+++ HSY success!\n",
      "+++ HLT success!\n",
      "+++ FITB success!\n",
      "+++ HOLX success!\n",
      "+++ FLT success!\n",
      "+++ HUM success!\n",
      "+++ GL success!\n",
      "+++ CBOE success!\n",
      "+++ IT success!\n",
      "+++ GLW success!\n",
      "+++ ITW success!\n",
      "+++ GM success!\n",
      "+++ FMC success!\n",
      "+++ GNRC success!\n",
      "+++ EXPE success!\n",
      "+++ GOOG success!\n",
      "+++ EXR success!\n",
      "+++ GOOGL success!\n",
      "+++ F success!\n",
      "+++ GPC success!\n",
      "+++ IVZ success!\n",
      "+++ LKQ success!\n",
      "+++ J success!\n",
      "+++ FOX success!\n",
      "+++ LLY success!\n",
      "+++ FOXA success!\n",
      "+++ LMT success!\n",
      "+++ ED success!\n",
      "+++ MAS success!\n",
      "+++ LNC success!\n",
      "+++ HWM success!\n",
      "+++ JBHT success!\n",
      "+++ IBM success!\n",
      "+++ JCI success!\n",
      "+++ GPN success!\n",
      "+++ HON success!\n",
      "+++ MO success!\n",
      "+++ HPE success!\n",
      "+++ MOH success!\n",
      "+++ EFX success!\n",
      "+++ HPQ success!\n",
      "+++ EIX success!\n",
      "+++ LNT success!\n",
      "+++ KEY success!\n",
      "+++ NCLH success!\n",
      "+++ EL success!\n",
      "+++ NDAQ success!\n",
      "+++ EMN success!\n",
      "+++ KEYS success!\n",
      "+++ NDSN success!\n",
      "+++ KHC success!\n",
      "+++ NEE success!\n",
      "+++ KIM success!\n",
      "+++ MOS success!\n",
      "+++ EMR success!\n",
      "+++ KLAC success!\n",
      "+++ MCD success!\n",
      "+++ NEM success!\n",
      "+++ KMB success!\n",
      "+++ MCHP success!\n",
      "+++ ENPH success!\n",
      "+++ JKHY success!\n",
      "+++ NFLX success!\n",
      "+++ LOW success!\n",
      "+++ NUE success!\n",
      "+++ NI success!\n",
      "+++ LRCX success!\n",
      "+++ MPC success!\n",
      "+++ LUMN success!\n",
      "+++ MPWR success!\n",
      "+++ LUV success!\n",
      "+++ MRK success!\n",
      "+++ LVS success!\n",
      "+++ KMI success!\n",
      "+++ NVDA success!\n",
      "+++ NKE success!\n",
      "+++ MRNA success!\n",
      "+++ NVR success!\n",
      "+++ ICE success!\n",
      "+++ MRO success!\n",
      "+++ NWL success!\n",
      "+++ IDXX success!\n",
      "+++ MS success!\n",
      "+++ IEX success!\n",
      "+++ MSCI success!\n",
      "+++ NLOK success!\n",
      "+++ LW success!\n",
      "+++ NWSA success!\n",
      "+++ LYB success!\n",
      "+++ MSFT success!\n",
      "+++ LYV success!\n",
      "+++ MSI success!\n",
      "+++ MA success!\n",
      "+++ MTB success!\n",
      "+++ MAA success!\n",
      "+++ KMX success!\n",
      "+++ MCK success!\n",
      "+++ NLSN success!\n",
      "+++ NXPI success!\n",
      "+++ NOC success!\n",
      "+++ O success!\n",
      "+++ IFF success!\n",
      "+++ ODFL success!\n",
      "+++ ILMN success!\n",
      "+++ NOW success!\n",
      "+++ INCY success!\n",
      "+++ JNJ success!\n",
      "+++ MCO success!\n",
      "+++ KO success!\n",
      "+++ JNPR success!\n",
      "+++ KR success!\n",
      "+++ JPM success!\n",
      "+++ L success!\n",
      "+++ K success!\n",
      "+++ INTC success!\n",
      "+++ OGN success!\n",
      "+++ MTCH success!\n",
      "+++ PAYC success!\n",
      "+++ OKE success!\n",
      "+++ PAYX success!\n",
      "+++ OMC success!\n",
      "+++ MDLZ success!\n",
      "+++ ORCL success!\n",
      "+++ PBCT success!\n",
      "+++ MDT success!\n",
      "+++ PCAR success!\n",
      "+++ MTD success!\n",
      "+++ ORLY success!\n",
      "+++ NRG success!\n",
      "+++ LDOS success!\n",
      "+++ OTIS success!\n",
      "+++ LEN success!\n",
      "+++ OXY success!\n",
      "+++ PEAK success!\n",
      "+++ NSC success!\n",
      "+++ PARA success!\n",
      "+++ NTAP success!\n",
      "+++ PLD success!\n",
      "+++ NTRS success!\n",
      "+++ MAR success!\n",
      "+++ MET success!\n",
      "+++ QCOM success!\n",
      "+++ RTX success!\n",
      "+++ QRVO success!\n",
      "+++ LH success!\n",
      "+++ RCL success!\n",
      "+++ MGM success!\n",
      "+++ RE success!\n",
      "+++ LHX success!\n",
      "+++ REG success!\n",
      "+++ MHK success!\n",
      "+++ REGN success!\n",
      "+++ MKC success!\n",
      "+++ LIN success!\n",
      "+++ PM success!\n",
      "+++ SRE success!\n",
      "+++ PNC success!\n",
      "+++ RF success!\n",
      "+++ PNR success!\n",
      "+++ RHI success!\n",
      "+++ INTU success!\n",
      "+++ PNW success!\n",
      "+++ STE success!\n",
      "+++ IP success!\n",
      "+++ STT success!\n",
      "+++ POOL success!\n",
      "+++ STX success!\n",
      "+++ SBAC success!\n",
      "+++ STZ success!\n",
      "+++ SBNY success!\n",
      "+++ MU success!\n",
      "+++ SWK success!\n",
      "+++ TWTR success!\n",
      "+++ SWKS success!\n",
      "+++ TER success!\n",
      "+++ SYF success!\n",
      "+++ TXN success!\n",
      "+++ SBUX success!\n",
      "+++ RJF success!\n",
      "+++ SCHW success!\n",
      "+++ RL success!\n",
      "+++ MKTX success!\n",
      "+++ SYK success!\n",
      "+++ RMD success!\n",
      "+++ MLM success!\n",
      "+++ ROK success!\n",
      "+++ MMC success!\n",
      "+++ ROL success!\n",
      "+++ MMM success!\n",
      "+++ ROP success!\n",
      "+++ MNST success!\n",
      "+++ TFC success!\n",
      "+++ VMC success!\n",
      "+++ ROST success!\n",
      "+++ SYY success!\n",
      "+++ PEG success!\n",
      "+++ RSG success!\n",
      "+++ T success!\n",
      "+++ PPG success!\n",
      "+++ WM success!\n",
      "+++ TAP success!\n",
      "+++ TXT success!\n",
      "+++ PPL success!\n",
      "+++ TYL success!\n",
      "+++ PENN success!\n",
      "+++ VNO success!\n",
      "+++ PEP success!\n",
      "+++ VRSK success!\n",
      "+++ WMB success!\n",
      "+++ PRU success!\n",
      "+++ TDG success!\n",
      "+++ WMT success!\n",
      "+++ UAL success!\n",
      "+++ TFX success!\n",
      "+++ WRB success!\n",
      "+++ PFE success!\n",
      "+++ WRK success!\n",
      "+++ PFG success!\n",
      "+++ WST success!\n",
      "+++ VRSN success!\n",
      "+++ WTW success!\n",
      "+++ VRTX success!\n",
      "+++ WY success!\n",
      "+++ PSA success!\n",
      "+++ WYNN success!\n",
      "+++ VTR success!\n",
      "+++ TGT success!\n",
      "+++ UDR success!\n",
      "+++ TJX success!\n",
      "+++ UHS success!\n",
      "+++ TMO success!\n",
      "+++ VTRS success!\n",
      "+++ TDY success!\n",
      "+++ VZ success!\n",
      "+++ PSX success!\n",
      "+++ SEDG success!\n",
      "+++ PG success!\n",
      "+++ PTC success!\n",
      "+++ SEE success!\n",
      "+++ PVH success!\n",
      "+++ SHW success!\n",
      "+++ PWR success!\n",
      "+++ SIVB success!\n",
      "+++ PGR success!\n",
      "+++ SJM success!\n",
      "+++ PXD success!\n",
      "+++ TMUS success!\n",
      "+++ XEL success!\n",
      "+++ TECH success!\n",
      "+++ ULTA success!\n",
      "+++ TEL success!\n",
      "+++ WAB success!\n",
      "+++ ZION success!\n",
      "+++ UNH success!\n",
      "+++ XOM success!\n",
      "+++ UNP success!\n",
      "+++ XRAY success!\n",
      "+++ PYPL success!\n",
      "+++ XYL success!\n",
      "+++ UPS success!\n",
      "+++ YUM success!\n",
      "+++ URI success!\n",
      "+++ ZBH success!\n",
      "+++ USB success!\n",
      "+++ ZBRA success!\n",
      "+++ ZTS success!\n",
      "+++ SLB success!\n",
      "+++ WAT success!\n",
      "+++ SNA success!\n",
      "+++ WBA success!\n",
      "+++ SNPS success!\n",
      "+++ V success!\n",
      "+++ PH success!\n",
      "+++ TPR success!\n",
      "+++ WDC success!\n",
      "+++ SO success!\n",
      "+++ WEC success!\n",
      "+++ SPG success!\n",
      "+++ TRMB success!\n",
      "+++ SPGI success!\n",
      "+++ TROW success!\n",
      "+++ VFC success!\n",
      "+++ WELL success!\n",
      "+++ TRV success!\n",
      "+++ WFC success!\n",
      "+++ PHM success!\n",
      "+++ VLO success!\n",
      "+++ WHR success!\n",
      "+++ PKG success!\n",
      "+++ TSCO success!\n",
      "+++ PKI success!\n",
      "+++ TSLA success!\n",
      "+++ TSN success!\n",
      "+++ TT success!\n",
      "+++ TTWO success!\n",
      "--- 100.34090614318848 seconds ---\n"
     ]
    }
   ],
   "source": [
    "# Attempt to clear the SQL DB if it fails initially before uploading the data again, \n",
    "# to reduce DB size for POST request on the APP side\n",
    "try: clear_django_sql_db(url = url)\n",
    "except: \n",
    "    try: clear_django_sql_db(url = url)\n",
    "    except: error_msg = '\\t##### Could not clear the Django SQL DB  #####'\n",
    "\n",
    "if model_to_use == 'FBP':\n",
    "    mapping_star = [(predictions1[i], series[i], adj_close_df.columns[i], i) for i in range(len(predictions1))]\n",
    "\n",
    "elif model_to_use == 'NP':\n",
    "    mapping_star = [(predictions2[i], series[i], adj_close_df.columns[i], i) for i in range(len(predictions2))]\n",
    "\n",
    "start_time1 = time.time()\n",
    "\n",
    "p = Pool(cpu_count())\n",
    "p.starmap(make_plots, mapping_star)\n",
    "p.close()\n",
    "p.join()\n",
    "print(\"--- %s seconds ---\" % (time.time() - start_time1))"
   ]
  },
  {
   "cell_type": "code",
   "execution_count": 16,
   "id": "6a39a421-9d48-4e9c-b62c-1923e57fdc38",
   "metadata": {},
   "outputs": [
    {
     "name": "stdout",
     "output_type": "stream",
     "text": [
      "\t+++++ The SQL DB was successfully cleared +++++\n",
      "--- 1730.3706755638123 seconds ---\n"
     ]
    }
   ],
   "source": [
    "try: print(error_msg)\n",
    "except: print(\"\\t+++++ The SQL DB was successfully cleared +++++\")\n",
    "\n",
    "print(\"--- %s seconds ---\" % (time.time() - start_time))"
   ]
  },
  {
   "cell_type": "code",
   "execution_count": null,
   "id": "8c5e4760-7b09-42c3-8b35-3ff6084344d1",
   "metadata": {},
   "outputs": [],
   "source": []
  }
 ],
 "metadata": {
  "kernelspec": {
   "display_name": "Python 3 (ipykernel)",
   "language": "python",
   "name": "python3"
  },
  "language_info": {
   "codemirror_mode": {
    "name": "ipython",
    "version": 3
   },
   "file_extension": ".py",
   "mimetype": "text/x-python",
   "name": "python",
   "nbconvert_exporter": "python",
   "pygments_lexer": "ipython3",
   "version": "3.8.8"
  }
 },
 "nbformat": 4,
 "nbformat_minor": 5
}
