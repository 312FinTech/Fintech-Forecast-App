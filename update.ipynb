{
 "cells": [
  {
   "cell_type": "code",
   "execution_count": 1,
   "id": "3867a43b-3d70-4fcd-a0a2-33e174a41555",
   "metadata": {},
   "outputs": [
    {
     "name": "stderr",
     "output_type": "stream",
     "text": [
      "/home/unknown/anaconda3/envs/forecastappenv/lib/python3.8/site-packages/tqdm/auto.py:22: TqdmWarning: IProgress not found. Please update jupyter and ipywidgets. See https://ipywidgets.readthedocs.io/en/stable/user_install.html\n",
      "  from .autonotebook import tqdm as notebook_tqdm\n"
     ]
    }
   ],
   "source": [
    "import pandas as pd\n",
    "from prophet import Prophet\n",
    "# from neuralprophet import NeuralProphet# as Prophet\n",
    "# from neuralprophet import set_log_level\n",
    "# set_log_level(\"ERROR\")\n",
    "\n",
    "from dotenv import load_dotenv\n",
    "from pathlib import Path\n",
    "import os\n",
    "\n",
    "# from ezekial.prophet import Prophet\n",
    "import yfinance as yf\n",
    "import requests\n",
    "import base64\n",
    "from datetime import datetime, timedelta\n",
    "import matplotlib.pyplot as plt\n",
    "from tqdm.auto import tqdm\n",
    "from multiprocessing import Pool, cpu_count, freeze_support\n",
    "import time\n",
    "import warnings\n",
    "import sys"
   ]
  },
  {
   "cell_type": "code",
   "execution_count": 7,
   "id": "b4a745d0-c3fd-4c35-bef7-752e3b518bd4",
   "metadata": {},
   "outputs": [],
   "source": [
    "# Arguements\n",
    "warnings.filterwarnings(\"ignore\")\n",
    "load_dotenv()\n",
    "url = os.getenv(\"DJANGO_SERVER_URL\")\n",
    "weeeks_prior_data_end_date = int(sys.argv[1]) #260\n",
    "forecast_days_ahead = int(sys.argv[2]) #90\n",
    "ticker_path = sys.argv[3]#'data/S&P500 tickers.csv'\n",
    "forecast_img_path = sys.argv[4]#'images/forecast_temp/forecast.png'"
   ]
  },
  {
   "cell_type": "code",
   "execution_count": 8,
   "id": "c03dfef3-4e47-4ea4-a982-9bd062b66580",
   "metadata": {},
   "outputs": [],
   "source": [
    "# # Arguements\n",
    "# warnings.filterwarnings(\"ignore\")\n",
    "# load_dotenv()\n",
    "# url = os.getenv(\"DJANGO_SERVER_URL\")\n",
    "# weeeks_prior_data_end_date = 260\n",
    "# forecast_days_ahead = 90\n",
    "# ticker_path = 'data/S&P500 tickers.csv'\n",
    "# forecast_img_path = 'images/forecast_temp/forecast.png'"
   ]
  },
  {
   "cell_type": "code",
   "execution_count": 9,
   "id": "c4364d50-77bb-4f16-b093-156be5dbb3bf",
   "metadata": {},
   "outputs": [],
   "source": [
    "# print(weeeks_prior_data_end_date)\n",
    "# print(forecast_days_ahead)\n",
    "# print(ticker_path)\n",
    "# print(forecast_img_path)"
   ]
  },
  {
   "cell_type": "code",
   "execution_count": 15,
   "id": "21330901-c01b-44bf-99bb-5963f90e3957",
   "metadata": {},
   "outputs": [],
   "source": [
    "def load_tickers(ticker_path):\n",
    "    \"\"\"\n",
    "    Takes five hundred tickers, which is max calls of yfinance for public ip.\n",
    "    \"\"\"\n",
    "    ticker_file_path = Path(ticker_path)\n",
    "    ticker_df = pd.read_csv(ticker_file_path)\n",
    "    prophet_ticker_list = ticker_df['Symbol'].head(500).to_list()\n",
    "    return prophet_ticker_list\n",
    "\n",
    "def django_get(url):\n",
    "    response = requests.get(url)\n",
    "    response_json = response.json()\n",
    "    return response_json\n",
    "\n",
    "def clear_django_sql_db(url):\n",
    "    \"\"\"\n",
    "    Clears the sql db in the django api.\n",
    "    \"DJANGO_SERVER_URL\" is provided in .env file.\n",
    "    \"\"\"\n",
    "\n",
    "    try:\n",
    "        # load_dotenv()\n",
    "        # url = os.getenv(\"DJANGO_SERVER_URL\")\n",
    "\n",
    "        django_api_items = django_get(url)\n",
    "\n",
    "        if len(django_api_items) != 0:\n",
    "            for x, index_id in enumerate(django_api_items):\n",
    "                x += 1\n",
    "                str_indx = str(index_id['id'])\n",
    "\n",
    "                if x == 1:\n",
    "                    url += str(str_indx)\n",
    "                    requests.delete(url)\n",
    "                    # print(f'entered if block\\t{url}')\n",
    "                else:\n",
    "                    try:\n",
    "                        url = url[:-len(str_indx)] + str_indx\n",
    "                        requests.delete(url)\n",
    "                        # print(f'entered else block\\t{url}')\n",
    "                    # For when the number of digits change\n",
    "                    except:\n",
    "                        url = url[:-len(str_indx) + 1] + str_indx\n",
    "                        requests.delete(url)                    \n",
    "                        # print(f'entered else block\\t{url}')\n",
    "            print(f\"Django SQL DB cleared:\\n\\n{django_get(url)}\")\n",
    "        else:\n",
    "            print(f\"Django SQL DB Already empty:\\n\\n{django_get(url)}\")\n",
    "    except:\n",
    "        print(f\"Django server did not clear:\\n\\n{django_get(url)}\")\n",
    "\n",
    "def run_prophet(timeserie, forecast_ahead = forecast_days_ahead):\n",
    "    model = Prophet(yearly_seasonality=False,daily_seasonality=False)\n",
    "    model.fit(timeserie)\n",
    "    forecast = model.make_future_dataframe(periods=forecast_ahead, include_history=True)\n",
    "    forecast = model.predict(forecast)\n",
    "    return forecast\n",
    "\n",
    "def make_plots(url):\n",
    "    # Attempt to clear the SQL DB if it fails initially before uploading the data again, \n",
    "    # to reduce DB size for POST request on the APP side\n",
    "    try: clear_django_sql_db(url = url)\n",
    "    except: \n",
    "        try: clear_django_sql_db(url = url)\n",
    "        except: error_msg = '\\t##### Could not clear the Django SQL DB  #####'\n",
    "\n",
    "    for idx, fig_plot in enumerate(predictions):\n",
    "        forecast_plot = pd.merge(left=fig_plot, right=series[idx], on='ds', how='outer')\n",
    "        ticker_sym = adj_close_df.columns[idx]\n",
    "        forecast_plot = forecast_plot[-(forecast_days_ahead - 10) - 30:-(forecast_days_ahead - 10)]\n",
    "        forecast_plot.index = forecast_plot['ds']\n",
    "\n",
    "        with plt.style.context('dark_background'):\n",
    "            fig, ax = plt.subplots()\n",
    "            forecast_plot[['y','yhat']].plot(ax=ax, figsize = (4,5), style=['o-','--'],color=['r','lightblue'],linewidth=1)\n",
    "            ax.set_xlabel('Date', fontdict={'size':12})\n",
    "            ax.set_ylabel('Price', fontdict={'size':12})\n",
    "            ax.yaxis.set_major_formatter('${x:,.0f}')\n",
    "            ax.legend(['Actual','Forecasted'], title= f'{ticker_sym}', loc='upper center', frameon=False)\n",
    "            # ax.set_facecolor('xkcd:black')\n",
    "        # plt.show()\n",
    "        try:\n",
    "            fig.savefig(forecast_img_path)\n",
    "            with open(forecast_img_path, \"rb\") as image2string:\n",
    "                converted_string = base64.b64encode(image2string.read())\n",
    "            image2string.close()\n",
    "\n",
    "            json_post = {\n",
    "                \"ticker\": f\"{ticker_sym}\",\n",
    "                \"time\": f'{today}'[:15],\n",
    "                \"encoded_string\": f\"{converted_string}\"\n",
    "            }\n",
    "\n",
    "            try:\n",
    "                requests.post(url,json_post)\n",
    "                print(f\"+++ {ticker_sym} success!\")\n",
    "            except:\n",
    "                print(f\"\\t--- {ticker_sym} failed ---\")\n",
    "        except:\n",
    "            print(f\"\\t---# {ticker_sym} failed #---\")\n",
    "            print(\"\\n\\n\\tyfinance API daily limit reached.\")"
   ]
  },
  {
   "cell_type": "code",
   "execution_count": null,
   "id": "877a878e-7931-4e14-adc7-2007a7c80e3a",
   "metadata": {},
   "outputs": [
    {
     "name": "stdout",
     "output_type": "stream",
     "text": [
      "[*********************100%***********************]  500 of 500 completed\n",
      "\n",
      "2 Failed downloads:\n",
      "- BF.B: No data found for this date range, symbol may be delisted\n",
      "- BRK.B: No data found, symbol may be delisted\n"
     ]
    },
    {
     "name": "stderr",
     "output_type": "stream",
     "text": [
      "  0%|                                                  | 0/498 [00:00<?, ?it/s]"
     ]
    }
   ],
   "source": [
    "start_time = time.time()\n",
    "today = datetime.today()\n",
    "start_date = today - timedelta(weeks=weeeks_prior_data_end_date)\n",
    "start_date = start_date.replace(second=0, microsecond=0)\n",
    "\n",
    "data = yf.download(load_tickers(ticker_path), start=start_date)\n",
    "adj_close_df = data['Adj Close']\n",
    "adj_close_df = adj_close_df.dropna(axis=1, how='all')\n",
    "series = [adj_close_df[f'{col}'].reset_index().rename({'Date':'ds', f'{col}':'y'}, axis=1) for col in adj_close_df]\n",
    "\n",
    "start_time0 = time.time()\n",
    "p = Pool(cpu_count())\n",
    "predictions = list(tqdm(p.imap(run_prophet, series), total=len(series)))\n",
    "p.close()\n",
    "p.join()\n",
    "print(\"--- %s seconds ---\" % (time.time() - start_time0))\n",
    "\n",
    "make_plots(url)\n",
    "\n",
    "try: print(error_msg)\n",
    "except: print(\"\\t+++++ The SQL DB was successfully cleared +++++\")\n",
    "\n",
    "print(\"--- %s seconds ---\" % (time.time() - start_time))"
   ]
  },
  {
   "cell_type": "code",
   "execution_count": 12,
   "id": "d9fe2e00-6279-41df-bb8a-50deefa0c21b",
   "metadata": {},
   "outputs": [
    {
     "name": "stdout",
     "output_type": "stream",
     "text": [
      "Django SQL DB cleared:\n",
      "\n",
      "{'detail': 'Not found.'}\n"
     ]
    }
   ],
   "source": [
    "# clear_django_sql_db(url)"
   ]
  },
  {
   "cell_type": "code",
   "execution_count": null,
   "id": "f083af13-f9a3-4dcd-90b9-0ed74c03dc57",
   "metadata": {},
   "outputs": [],
   "source": []
  },
  {
   "cell_type": "code",
   "execution_count": null,
   "id": "87a0c687-12b1-46ff-8553-6a981e6c16ea",
   "metadata": {},
   "outputs": [],
   "source": []
  }
 ],
 "metadata": {
  "kernelspec": {
   "display_name": "Python 3 (ipykernel)",
   "language": "python",
   "name": "python3"
  },
  "language_info": {
   "codemirror_mode": {
    "name": "ipython",
    "version": 3
   },
   "file_extension": ".py",
   "mimetype": "text/x-python",
   "name": "python",
   "nbconvert_exporter": "python",
   "pygments_lexer": "ipython3",
   "version": "3.8.8"
  }
 },
 "nbformat": 4,
 "nbformat_minor": 5
}
