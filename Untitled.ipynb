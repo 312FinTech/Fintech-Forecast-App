{
 "cells": [
  {
   "cell_type": "code",
   "execution_count": 1,
   "id": "c3a45838-c506-4f87-a589-8e3c2fa40e3a",
   "metadata": {},
   "outputs": [
    {
     "name": "stderr",
     "output_type": "stream",
     "text": [
      "[WARNING] [Config      ] Older configuration version detected (0 instead of 21)\n",
      "[WARNING] [Config      ] Upgrading configuration in progress.\n",
      "[INFO   ] [Logger      ] Record log in /home/unknowunknown/.kivy/logs/kivy_22-03-08_0.txt\n",
      "[INFO   ] [Kivy        ] v2.0.0\n",
      "[INFO   ] [Kivy        ] Installed at \"/home/unknowunknown/anaconda3/envs/forecastappenv/lib/python3.8/site-packages/kivy/__init__.py\"\n",
      "[INFO   ] [Python      ] v3.8.8 (default, Apr 13 2021, 19:58:26) \n",
      "[GCC 7.3.0]\n",
      "[INFO   ] [Python      ] Interpreter at \"/home/unknowunknown/anaconda3/envs/forecastappenv/bin/python\"\n"
     ]
    }
   ],
   "source": [
    "import kivy"
   ]
  },
  {
   "cell_type": "code",
   "execution_count": null,
   "id": "7aae3197-3ce6-4f8b-b2a7-8fa0351eafcf",
   "metadata": {},
   "outputs": [],
   "source": []
  }
 ],
 "metadata": {
  "kernelspec": {
   "display_name": "forecastappenv",
   "language": "python",
   "name": "forecastappenv"
  },
  "language_info": {
   "codemirror_mode": {
    "name": "ipython",
    "version": 3
   },
   "file_extension": ".py",
   "mimetype": "text/x-python",
   "name": "python",
   "nbconvert_exporter": "python",
   "pygments_lexer": "ipython3",
   "version": "3.8.8"
  }
 },
 "nbformat": 4,
 "nbformat_minor": 5
}
