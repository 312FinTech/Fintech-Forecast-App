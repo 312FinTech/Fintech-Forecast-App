{
 "cells": [
  {
   "cell_type": "markdown",
   "id": "4b883b53-cb38-42f9-98b8-dc010fb4b232",
   "metadata": {},
   "source": [
    "# Bobby\n",
    "## Quantifying FB Prophet DF for Weather Emoticons "
   ]
  },
  {
   "cell_type": "code",
   "execution_count": null,
   "id": "6d003067-dd4d-44ff-bfef-514e796c464e",
   "metadata": {},
   "outputs": [],
   "source": [
    "from ezekial import yahooprophet as yfp\n",
    "from ezekial import alphaprophet as alpha_op\n",
    "from dotenv import load_dotenv\n",
    "import os\n",
    "from pathlib import Path\n",
    "import warnings\n",
    "warnings.filterwarnings(\"ignore\")\n",
    "import pandas as pd\n",
    "\n",
    "# Make sure you have the .env file in this dir\n",
    "load_dotenv()\n",
    "AV_KEY = os.getenv(\"APLHA_VANTAGE_KEY\")"
   ]
  },
  {
   "cell_type": "markdown",
   "id": "6b8c3aab-34bc-428a-8317-537cbecf8a16",
   "metadata": {},
   "source": [
    "https://www.alphavantage.co/#page-top\n",
    "\\\n",
    "https://www.alphavantage.co/documentation/\n",
    "See Adjusted Price Endpoints Here"
   ]
  },
  {
   "cell_type": "code",
   "execution_count": null,
   "id": "9f239875-52e2-4493-a68d-348c467e04f8",
   "metadata": {},
   "outputs": [],
   "source": [
    "alpha_op_obj = alpha_op.AlphaProphet(\n",
    "                                    alpha_key = AV_KEY,\n",
    "                                    alpha_ticker = 'IWL',\n",
    "                                    time_interval = '60min',\n",
    "                                    forecast_ahead = 12)"
   ]
  },
  {
   "cell_type": "markdown",
   "id": "1f42ed53-2f46-4222-9fa5-04fbf393496d",
   "metadata": {},
   "source": [
    "## We need to look at the cols in the df that makes the plot. Use this url for details on the df and cols:\n",
    "https://facebook.github.io/prophet/docs/quick_start.html#python-api."
   ]
  },
  {
   "cell_type": "markdown",
   "id": "58a6ef16-df84-4063-b5eb-35e5af9d7497",
   "metadata": {},
   "source": [
    "The predict method will assign each row in future a predicted value which it names yhat. If you pass in historical dates, it will provide an in-sample fit. The forecast object here is a new dataframe that includes a column yhat with the forecast, as well as columns for components and uncertainty intervals."
   ]
  },
  {
   "cell_type": "code",
   "execution_count": null,
   "id": "f8e8a539-aec4-4801-aa50-24b07f8dbfc6",
   "metadata": {},
   "outputs": [],
   "source": [
    "alpha_op_obj.forecast"
   ]
  },
  {
   "cell_type": "code",
   "execution_count": null,
   "id": "5de5484e-5359-493d-97ec-f3c02588ae4a",
   "metadata": {},
   "outputs": [],
   "source": [
    "\n",
    "\n"
   ]
  },
  {
   "cell_type": "code",
   "execution_count": null,
   "id": "d508b288-145c-4363-9168-8949d2d0f746",
   "metadata": {},
   "outputs": [],
   "source": []
  },
  {
   "cell_type": "code",
   "execution_count": null,
   "id": "3a5d67d4-2dd5-4f0d-bb27-f827df5df02d",
   "metadata": {},
   "outputs": [],
   "source": []
  },
  {
   "cell_type": "code",
   "execution_count": null,
   "id": "41fb846c-8ab6-4041-b428-a87adb35d66f",
   "metadata": {},
   "outputs": [],
   "source": []
  },
  {
   "cell_type": "code",
   "execution_count": null,
   "id": "2f02bfa7-efb4-4cd1-bee5-961b7147b17c",
   "metadata": {},
   "outputs": [],
   "source": []
  },
  {
   "cell_type": "markdown",
   "id": "6a176923-0eae-4905-84a1-5f0bc7c953dc",
   "metadata": {},
   "source": [
    "## yfinance Data"
   ]
  },
  {
   "cell_type": "code",
   "execution_count": null,
   "id": "78d4903e-1435-4b38-afe8-88c31a40c7b5",
   "metadata": {},
   "outputs": [],
   "source": [
    "yfp_obj = yfp.YahooProphet(\n",
    "                           yf_ticker='BTC-USD',\n",
    "                           start_date='2019-1-1',\n",
    "                           forecast_ahead=90)"
   ]
  },
  {
   "cell_type": "code",
   "execution_count": null,
   "id": "6b9269c7-823c-41b9-8ad6-e6efb780e8c8",
   "metadata": {},
   "outputs": [],
   "source": [
    "yfp_obj.forecast"
   ]
  },
  {
   "cell_type": "code",
   "execution_count": null,
   "id": "77e5dac6-d53c-4c1e-bb74-85160fac2d8b",
   "metadata": {},
   "outputs": [],
   "source": [
    "\n",
    "\n"
   ]
  },
  {
   "cell_type": "code",
   "execution_count": null,
   "id": "bfb94afc-3a85-40ee-baf5-a1de13844448",
   "metadata": {},
   "outputs": [],
   "source": []
  },
  {
   "cell_type": "code",
   "execution_count": null,
   "id": "c7561a7f-7c8e-4a4b-a582-6c5a24054f71",
   "metadata": {},
   "outputs": [],
   "source": []
  },
  {
   "cell_type": "code",
   "execution_count": null,
   "id": "e104469d-fc2f-4198-9aec-73075d7f25e1",
   "metadata": {},
   "outputs": [],
   "source": []
  },
  {
   "cell_type": "code",
   "execution_count": null,
   "id": "4bb7235e-c3d1-43be-8dce-50323fd0c238",
   "metadata": {},
   "outputs": [],
   "source": []
  }
 ],
 "metadata": {
  "kernelspec": {
   "display_name": "Python 3 (ipykernel)",
   "language": "python",
   "name": "python3"
  },
  "language_info": {
   "codemirror_mode": {
    "name": "ipython",
    "version": 3
   },
   "file_extension": ".py",
   "mimetype": "text/x-python",
   "name": "python",
   "nbconvert_exporter": "python",
   "pygments_lexer": "ipython3",
   "version": "3.8.8"
  }
 },
 "nbformat": 4,
 "nbformat_minor": 5
}
